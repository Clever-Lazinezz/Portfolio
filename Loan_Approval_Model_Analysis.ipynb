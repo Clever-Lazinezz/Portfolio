{
  "nbformat": 4,
  "nbformat_minor": 0,
  "metadata": {
    "colab": {
      "provenance": [],
      "collapsed_sections": [
        "XPpekax71Nil",
        "s6M3V23g19zh",
        "jQImBGoH3Z9i",
        "7MomI3Wv-wb3",
        "wJLhiq2U3ZbA",
        "qTON75NaR5qQ",
        "WbL3WNA1aGd9",
        "LUs5_53WAyfx",
        "kdX0EHArVXRM",
        "x6H6gHYp-RgA",
        "ASKEqChv1N-R",
        "70BwBCsh1OL5",
        "nK4h7akHZSop",
        "U5UCuHye74gE",
        "qXzjZ4Ud1OmX"
      ],
      "authorship_tag": "ABX9TyPHw0+Mn/gNU6OuHKMgwk1h",
      "include_colab_link": true
    },
    "kernelspec": {
      "name": "python3",
      "display_name": "Python 3"
    },
    "language_info": {
      "name": "python"
    }
  },
  "cells": [
    {
      "cell_type": "markdown",
      "metadata": {
        "id": "view-in-github",
        "colab_type": "text"
      },
      "source": [
        "<a href=\"https://colab.research.google.com/github/Clever-Lazinezz/Portfolio/blob/main/Loan_Approval_Model_Analysis.ipynb\" target=\"_parent\"><img src=\"https://colab.research.google.com/assets/colab-badge.svg\" alt=\"Open In Colab\"/></a>"
      ]
    },
    {
      "cell_type": "markdown",
      "source": [
        "## Import Libraries"
      ],
      "metadata": {
        "id": "XPpekax71Nil"
      }
    },
    {
      "cell_type": "code",
      "source": [
        "import pandas as pd\n",
        "import numpy as np\n",
        "import seaborn as sns\n",
        "import matplotlib.pyplot as plt"
      ],
      "metadata": {
        "id": "fKw48Vuv2UZu"
      },
      "execution_count": 1,
      "outputs": []
    },
    {
      "cell_type": "markdown",
      "source": [
        "## Purpose and Overview"
      ],
      "metadata": {
        "id": "s6M3V23g19zh"
      }
    },
    {
      "cell_type": "markdown",
      "source": [
        "### Objective"
      ],
      "metadata": {
        "id": "jQImBGoH3Z9i"
      }
    },
    {
      "cell_type": "markdown",
      "source": [
        "The goal of this analysis is to create an accurate logistic regression model which predicts if a client will be approved for a loan given a set of categorical data."
      ],
      "metadata": {
        "id": "W5Bbu1Kf6HoH"
      }
    },
    {
      "cell_type": "markdown",
      "source": [
        "### Why This Project Is Important"
      ],
      "metadata": {
        "id": "7MomI3Wv-wb3"
      }
    },
    {
      "cell_type": "markdown",
      "source": [
        "Financial Institutes have historically used guidelines(and human bias) to decide on loan approvals. AI applications are used to decrease the bias in these credit decisions. A recurring issue with Machine Learning(ML) models is that they rely on the quality, accuracy, and quantity of relevant data. However, it is the responsibility of the model creators to try their best to select data categories that are the least likely to be biased. In addition, data scientists can account for some biases and utilize tests(such as one-way ANOVAs) to measure mean differences in datasets with a race/ethnicity category. Furthermore, AI applications have the potential to save companies money through employee cost, risk minimization, and processing speed.\n"
      ],
      "metadata": {
        "id": "DRPdSWbp-6UE"
      }
    },
    {
      "cell_type": "markdown",
      "source": [
        "### Info On Data Set"
      ],
      "metadata": {
        "id": "0ZgAHALL36bo"
      }
    },
    {
      "cell_type": "markdown",
      "source": [
        "Data set taken from : https://datahack.analyticsvidhya.com/contest/practice-problem-loan-prediction-iii/\n",
        "\n",
        "#### Problem Statement\n",
        "\n",
        "---\n",
        "\n",
        "##### About Company\n",
        "Dream Housing Finance company deals in all home loans. They have presence across all urban, semi urban and rural areas. Customer first apply for home loan after that company validates the customer eligibility for loan.\n",
        "\n",
        "##### Problem\n",
        "Company wants to automate the loan eligibility process (real time) based on customer detail provided while filling online application form. These details are Gender, Marital Status, Education, Number of Dependents, Income, Loan Amount, Credit History and others. To automate this process, they have given a problem to identify the customers segments, those are eligible for loan amount so that they can specifically target these customers. Here they have provided a partial data set."
      ],
      "metadata": {
        "id": "rxJyJj3s3-zt"
      }
    },
    {
      "cell_type": "markdown",
      "source": [
        "## Model Choice and Methodology"
      ],
      "metadata": {
        "id": "wJLhiq2U3ZbA"
      }
    },
    {
      "cell_type": "markdown",
      "source": [
        "### Intro to Supervised Algorithms"
      ],
      "metadata": {
        "id": "qTON75NaR5qQ"
      }
    },
    {
      "cell_type": "markdown",
      "source": [
        "This analysis will create include a logistic regression model. Logistic regression is a supervised classification algorithm. This means that the algorthim learns from labeled data. For example, if we wanted to create a supervised regression model to detect earthquakes, we would need two sets of information. The first being digital measurments collected prior to known earthquakes and the second being measurments collected when no earthquakes occured. Parameters such as hours before a recorded earthquake and what constitutes an earthquake are necesary, but we can ignore this. The important observation is that we have a true case, an earthquake occured, and a false case, an earthquake did not occur. This true and false becomes 1 and 0 respectively. For our model we will be using Loan Approvals represented as a Y(approved) or N(not approved). "
      ],
      "metadata": {
        "id": "iJbuEDSw86u9"
      }
    },
    {
      "cell_type": "markdown",
      "source": [
        "### The Assumptions of Binary Logistic Regression"
      ],
      "metadata": {
        "id": "_vaVefH2W88j"
      }
    },
    {
      "cell_type": "markdown",
      "source": [
        "Binary logistic regression assumes the following: there are only two possible outcomes, the observed data is independent, there is a linear relationship between the explanatory variables and the logit of the estimated variable, variables are not multicollinear, there are no extreme outliers,  and the sample size is sufficiently large.\n"
      ],
      "metadata": {
        "id": "VaVIQl4AXOTv"
      }
    },
    {
      "cell_type": "markdown",
      "source": [
        "### Why Binary Logisitc Regression Is An Adequate Model"
      ],
      "metadata": {
        "id": "LUs5_53WAyfx"
      }
    },
    {
      "cell_type": "markdown",
      "source": [
        "Binary logistic regression is great for predicting binary outcomes; when there are only two outcomes. As previously mentioned, we are predicting Loan Approvals represented as a Y(approved) or N(not approved). In additon, all of our intended predictor variables are independent of each other and our dataset is large enough to produce viable models. The highest coefficient of determination found between pairs of columns and loan status was 0.30162; therefore, we know that there is no multicollinearity among our explanatory variables."
      ],
      "metadata": {
        "id": "5OGQLRgxA8Et"
      }
    },
    {
      "cell_type": "markdown",
      "source": [
        "#### Coefficient of Determination"
      ],
      "metadata": {
        "id": "kdX0EHArVXRM"
      }
    },
    {
      "cell_type": "markdown",
      "source": [
        "Finding data categories which produce the most accurate linear model requires cleaning data(deleting null data, deleting irrelevant data, converting non-numeric values into numerics, etc.), and researching which data columns may be the most relevant. To help find these columns, we can determine the coefficient of determination for pairs of columns. The coefficient of determination assesses the variance of expected outcome values. Thus assessing the performance of a linear regression model. The points on figure xxx below are the recorded values, the line is a linear regression line, and the lines connecting each point to the regression line represent the difference between the expected outcomes and the actual outcomes. The higher the coefficient of determination, the closer the recorded values are to the predicted values. However, this test can NOT be the sole evidence of correlation between variables. If a data set is non-linear, yet its curve acts periodically, the function can produce a high coefficient of determination. Its line of best fit will seemingly splice through the center of all data points, but the difference between the expected values and actual values(residuals) would be apparent for the majority of data points. Figure xxx, illustrates the concept."
      ],
      "metadata": {
        "id": "QYfafwjyahr3"
      }
    },
    {
      "cell_type": "markdown",
      "source": [
        "![image.png](data:image/png;base64,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)"
      ],
      "metadata": {
        "id": "VGWMXcS1iQtj"
      }
    },
    {
      "cell_type": "markdown",
      "source": [
        "The coefficient of determinant for figure xxx is 0.98500! However, we can clearly see that the residual(y-axis) is large for the majority of our data points. "
      ],
      "metadata": {
        "id": "PvmKfkaoiak0"
      }
    },
    {
      "cell_type": "markdown",
      "source": [
        "## Analysis"
      ],
      "metadata": {
        "id": "x6H6gHYp-RgA"
      }
    },
    {
      "cell_type": "markdown",
      "source": [
        "Each data split will be predicting if a loan was approved or not approved. The data columns we are using are all independent, there is no multicollinearity among the explanatory variables, and the sample size is large enough. The data columns we'll use are real world variables and known to be independent. We found the highest coefficient of determination among our column pairs and the result was 0.30161. Thus we can conclude that there is no multicollinearity among our explanaotry variables. Furthermore, we have found that sample size follows a general rule of thumb; (minimum of 10 cases) * (# of explanatory variables) / frequency of least frequent outcome. Which resolves to, ((10*2)/.4518) = 44. A number smaller than any of our data splits' columns' lengths. In addition, each data split will take a randomized 33% of the data available in each split. This is done to avoid overfitting our model; making a model extremely accurate at classifying our training data, which could result in poor prediction accuracy for new data. In addition, we will be assuming there exist a linear relationship between the explanatory variables and the logit of the estimated variable. "
      ],
      "metadata": {
        "id": "eMwcOwmYvtS8"
      }
    },
    {
      "cell_type": "markdown",
      "source": [
        "### First Data Split"
      ],
      "metadata": {
        "id": "GTCttjPP_N48"
      }
    },
    {
      "cell_type": "markdown",
      "source": [
        "Our first data split takes Loan Amount and Credit History as our explanatory variables. These variables produced the highest Coefficient of Determination, so we can hope that they'd produce the most accurate model of our analysis. The former, assumed to be in thousands, ranges from 9 to 700. The latter defined as a 1 or 0; 1 meaning there exist a credit history, 0 mean there exist no credit history. The mean for Credit History was 0.85066, meaning that the majority clients in our data set were approved for their loan. Our resulting model had an f1-score of 0.87. "
      ],
      "metadata": {
        "id": "Zd2zkct3-oUW"
      }
    },
    {
      "cell_type": "markdown",
      "source": [
        "### Second Data Split"
      ],
      "metadata": {
        "id": "PqJRhyzQ_WWJ"
      }
    },
    {
      "cell_type": "markdown",
      "source": [
        "Our second data split takes Total Income and Credit History as explanatory variables. The former, in monthly earnings, ranges from 455 to 81,000 with a mean of 6,069. We can speculate that our model will be more accurate at predicting loan approvals when income is closer to the mean. In addition, our regression model could be significantly skewed due to more extreme values. However, we will keep these data values because we're creating a model for all income ranges. Our resulting model had an f1-score of 0.81."
      ],
      "metadata": {
        "id": "FXEOkNwO_dHh"
      }
    },
    {
      "cell_type": "markdown",
      "source": [
        "### Third Data Split"
      ],
      "metadata": {
        "id": "z4vSgw9ZrTUv"
      }
    },
    {
      "cell_type": "markdown",
      "source": [
        "Our third data split takes Loan Amount and Loan Amount Term(in days). The Latter, assumed to be in months, had a range from 36 to 480. The mean was 342.35161, and once again we can speculate that this model will be more accurate at predicting loan approvals when loan amount term is closer to the mean. Our resulting model had an f1-score of 0.72."
      ],
      "metadata": {
        "id": "ZoXtTlvFrYTV"
      }
    },
    {
      "cell_type": "markdown",
      "source": [
        "## Read Files"
      ],
      "metadata": {
        "id": "ASKEqChv1N-R"
      }
    },
    {
      "cell_type": "code",
      "source": [
        "df = pd.read_csv('https://raw.githubusercontent.com/Clever-Lazinezz/ML-Data2/main/loan_data_set.csv.xls')"
      ],
      "metadata": {
        "id": "SnSwCose2UFx"
      },
      "execution_count": 2,
      "outputs": []
    },
    {
      "cell_type": "markdown",
      "source": [
        "## Exploritory Data Analysis"
      ],
      "metadata": {
        "id": "70BwBCsh1OL5"
      }
    },
    {
      "cell_type": "code",
      "source": [
        "df"
      ],
      "metadata": {
        "id": "jtEqQaB42cM2",
        "colab": {
          "base_uri": "https://localhost:8080/",
          "height": 500
        },
        "outputId": "2dd1e359-8339-4ada-a3f4-b0e96b514992"
      },
      "execution_count": 3,
      "outputs": [
        {
          "output_type": "execute_result",
          "data": {
            "text/plain": [
              "      Loan_ID  Gender Married Dependents     Education Self_Employed  \\\n",
              "0    LP001002    Male      No          0      Graduate            No   \n",
              "1    LP001003    Male     Yes          1      Graduate            No   \n",
              "2    LP001005    Male     Yes          0      Graduate           Yes   \n",
              "3    LP001006    Male     Yes          0  Not Graduate            No   \n",
              "4    LP001008    Male      No          0      Graduate            No   \n",
              "..        ...     ...     ...        ...           ...           ...   \n",
              "609  LP002978  Female      No          0      Graduate            No   \n",
              "610  LP002979    Male     Yes         3+      Graduate            No   \n",
              "611  LP002983    Male     Yes          1      Graduate            No   \n",
              "612  LP002984    Male     Yes          2      Graduate            No   \n",
              "613  LP002990  Female      No          0      Graduate           Yes   \n",
              "\n",
              "     ApplicantIncome  CoapplicantIncome  LoanAmount  Loan_Amount_Term  \\\n",
              "0               5849                0.0         NaN             360.0   \n",
              "1               4583             1508.0       128.0             360.0   \n",
              "2               3000                0.0        66.0             360.0   \n",
              "3               2583             2358.0       120.0             360.0   \n",
              "4               6000                0.0       141.0             360.0   \n",
              "..               ...                ...         ...               ...   \n",
              "609             2900                0.0        71.0             360.0   \n",
              "610             4106                0.0        40.0             180.0   \n",
              "611             8072              240.0       253.0             360.0   \n",
              "612             7583                0.0       187.0             360.0   \n",
              "613             4583                0.0       133.0             360.0   \n",
              "\n",
              "     Credit_History Property_Area Loan_Status  \n",
              "0               1.0         Urban           Y  \n",
              "1               1.0         Rural           N  \n",
              "2               1.0         Urban           Y  \n",
              "3               1.0         Urban           Y  \n",
              "4               1.0         Urban           Y  \n",
              "..              ...           ...         ...  \n",
              "609             1.0         Rural           Y  \n",
              "610             1.0         Rural           Y  \n",
              "611             1.0         Urban           Y  \n",
              "612             1.0         Urban           Y  \n",
              "613             0.0     Semiurban           N  \n",
              "\n",
              "[614 rows x 13 columns]"
            ],
            "text/html": [
              "\n",
              "  <div id=\"df-00d7a03b-9d89-4076-8ccd-e350f5053b6a\">\n",
              "    <div class=\"colab-df-container\">\n",
              "      <div>\n",
              "<style scoped>\n",
              "    .dataframe tbody tr th:only-of-type {\n",
              "        vertical-align: middle;\n",
              "    }\n",
              "\n",
              "    .dataframe tbody tr th {\n",
              "        vertical-align: top;\n",
              "    }\n",
              "\n",
              "    .dataframe thead th {\n",
              "        text-align: right;\n",
              "    }\n",
              "</style>\n",
              "<table border=\"1\" class=\"dataframe\">\n",
              "  <thead>\n",
              "    <tr style=\"text-align: right;\">\n",
              "      <th></th>\n",
              "      <th>Loan_ID</th>\n",
              "      <th>Gender</th>\n",
              "      <th>Married</th>\n",
              "      <th>Dependents</th>\n",
              "      <th>Education</th>\n",
              "      <th>Self_Employed</th>\n",
              "      <th>ApplicantIncome</th>\n",
              "      <th>CoapplicantIncome</th>\n",
              "      <th>LoanAmount</th>\n",
              "      <th>Loan_Amount_Term</th>\n",
              "      <th>Credit_History</th>\n",
              "      <th>Property_Area</th>\n",
              "      <th>Loan_Status</th>\n",
              "    </tr>\n",
              "  </thead>\n",
              "  <tbody>\n",
              "    <tr>\n",
              "      <th>0</th>\n",
              "      <td>LP001002</td>\n",
              "      <td>Male</td>\n",
              "      <td>No</td>\n",
              "      <td>0</td>\n",
              "      <td>Graduate</td>\n",
              "      <td>No</td>\n",
              "      <td>5849</td>\n",
              "      <td>0.0</td>\n",
              "      <td>NaN</td>\n",
              "      <td>360.0</td>\n",
              "      <td>1.0</td>\n",
              "      <td>Urban</td>\n",
              "      <td>Y</td>\n",
              "    </tr>\n",
              "    <tr>\n",
              "      <th>1</th>\n",
              "      <td>LP001003</td>\n",
              "      <td>Male</td>\n",
              "      <td>Yes</td>\n",
              "      <td>1</td>\n",
              "      <td>Graduate</td>\n",
              "      <td>No</td>\n",
              "      <td>4583</td>\n",
              "      <td>1508.0</td>\n",
              "      <td>128.0</td>\n",
              "      <td>360.0</td>\n",
              "      <td>1.0</td>\n",
              "      <td>Rural</td>\n",
              "      <td>N</td>\n",
              "    </tr>\n",
              "    <tr>\n",
              "      <th>2</th>\n",
              "      <td>LP001005</td>\n",
              "      <td>Male</td>\n",
              "      <td>Yes</td>\n",
              "      <td>0</td>\n",
              "      <td>Graduate</td>\n",
              "      <td>Yes</td>\n",
              "      <td>3000</td>\n",
              "      <td>0.0</td>\n",
              "      <td>66.0</td>\n",
              "      <td>360.0</td>\n",
              "      <td>1.0</td>\n",
              "      <td>Urban</td>\n",
              "      <td>Y</td>\n",
              "    </tr>\n",
              "    <tr>\n",
              "      <th>3</th>\n",
              "      <td>LP001006</td>\n",
              "      <td>Male</td>\n",
              "      <td>Yes</td>\n",
              "      <td>0</td>\n",
              "      <td>Not Graduate</td>\n",
              "      <td>No</td>\n",
              "      <td>2583</td>\n",
              "      <td>2358.0</td>\n",
              "      <td>120.0</td>\n",
              "      <td>360.0</td>\n",
              "      <td>1.0</td>\n",
              "      <td>Urban</td>\n",
              "      <td>Y</td>\n",
              "    </tr>\n",
              "    <tr>\n",
              "      <th>4</th>\n",
              "      <td>LP001008</td>\n",
              "      <td>Male</td>\n",
              "      <td>No</td>\n",
              "      <td>0</td>\n",
              "      <td>Graduate</td>\n",
              "      <td>No</td>\n",
              "      <td>6000</td>\n",
              "      <td>0.0</td>\n",
              "      <td>141.0</td>\n",
              "      <td>360.0</td>\n",
              "      <td>1.0</td>\n",
              "      <td>Urban</td>\n",
              "      <td>Y</td>\n",
              "    </tr>\n",
              "    <tr>\n",
              "      <th>...</th>\n",
              "      <td>...</td>\n",
              "      <td>...</td>\n",
              "      <td>...</td>\n",
              "      <td>...</td>\n",
              "      <td>...</td>\n",
              "      <td>...</td>\n",
              "      <td>...</td>\n",
              "      <td>...</td>\n",
              "      <td>...</td>\n",
              "      <td>...</td>\n",
              "      <td>...</td>\n",
              "      <td>...</td>\n",
              "      <td>...</td>\n",
              "    </tr>\n",
              "    <tr>\n",
              "      <th>609</th>\n",
              "      <td>LP002978</td>\n",
              "      <td>Female</td>\n",
              "      <td>No</td>\n",
              "      <td>0</td>\n",
              "      <td>Graduate</td>\n",
              "      <td>No</td>\n",
              "      <td>2900</td>\n",
              "      <td>0.0</td>\n",
              "      <td>71.0</td>\n",
              "      <td>360.0</td>\n",
              "      <td>1.0</td>\n",
              "      <td>Rural</td>\n",
              "      <td>Y</td>\n",
              "    </tr>\n",
              "    <tr>\n",
              "      <th>610</th>\n",
              "      <td>LP002979</td>\n",
              "      <td>Male</td>\n",
              "      <td>Yes</td>\n",
              "      <td>3+</td>\n",
              "      <td>Graduate</td>\n",
              "      <td>No</td>\n",
              "      <td>4106</td>\n",
              "      <td>0.0</td>\n",
              "      <td>40.0</td>\n",
              "      <td>180.0</td>\n",
              "      <td>1.0</td>\n",
              "      <td>Rural</td>\n",
              "      <td>Y</td>\n",
              "    </tr>\n",
              "    <tr>\n",
              "      <th>611</th>\n",
              "      <td>LP002983</td>\n",
              "      <td>Male</td>\n",
              "      <td>Yes</td>\n",
              "      <td>1</td>\n",
              "      <td>Graduate</td>\n",
              "      <td>No</td>\n",
              "      <td>8072</td>\n",
              "      <td>240.0</td>\n",
              "      <td>253.0</td>\n",
              "      <td>360.0</td>\n",
              "      <td>1.0</td>\n",
              "      <td>Urban</td>\n",
              "      <td>Y</td>\n",
              "    </tr>\n",
              "    <tr>\n",
              "      <th>612</th>\n",
              "      <td>LP002984</td>\n",
              "      <td>Male</td>\n",
              "      <td>Yes</td>\n",
              "      <td>2</td>\n",
              "      <td>Graduate</td>\n",
              "      <td>No</td>\n",
              "      <td>7583</td>\n",
              "      <td>0.0</td>\n",
              "      <td>187.0</td>\n",
              "      <td>360.0</td>\n",
              "      <td>1.0</td>\n",
              "      <td>Urban</td>\n",
              "      <td>Y</td>\n",
              "    </tr>\n",
              "    <tr>\n",
              "      <th>613</th>\n",
              "      <td>LP002990</td>\n",
              "      <td>Female</td>\n",
              "      <td>No</td>\n",
              "      <td>0</td>\n",
              "      <td>Graduate</td>\n",
              "      <td>Yes</td>\n",
              "      <td>4583</td>\n",
              "      <td>0.0</td>\n",
              "      <td>133.0</td>\n",
              "      <td>360.0</td>\n",
              "      <td>0.0</td>\n",
              "      <td>Semiurban</td>\n",
              "      <td>N</td>\n",
              "    </tr>\n",
              "  </tbody>\n",
              "</table>\n",
              "<p>614 rows × 13 columns</p>\n",
              "</div>\n",
              "      <button class=\"colab-df-convert\" onclick=\"convertToInteractive('df-00d7a03b-9d89-4076-8ccd-e350f5053b6a')\"\n",
              "              title=\"Convert this dataframe to an interactive table.\"\n",
              "              style=\"display:none;\">\n",
              "        \n",
              "  <svg xmlns=\"http://www.w3.org/2000/svg\" height=\"24px\"viewBox=\"0 0 24 24\"\n",
              "       width=\"24px\">\n",
              "    <path d=\"M0 0h24v24H0V0z\" fill=\"none\"/>\n",
              "    <path d=\"M18.56 5.44l.94 2.06.94-2.06 2.06-.94-2.06-.94-.94-2.06-.94 2.06-2.06.94zm-11 1L8.5 8.5l.94-2.06 2.06-.94-2.06-.94L8.5 2.5l-.94 2.06-2.06.94zm10 10l.94 2.06.94-2.06 2.06-.94-2.06-.94-.94-2.06-.94 2.06-2.06.94z\"/><path d=\"M17.41 7.96l-1.37-1.37c-.4-.4-.92-.59-1.43-.59-.52 0-1.04.2-1.43.59L10.3 9.45l-7.72 7.72c-.78.78-.78 2.05 0 2.83L4 21.41c.39.39.9.59 1.41.59.51 0 1.02-.2 1.41-.59l7.78-7.78 2.81-2.81c.8-.78.8-2.07 0-2.86zM5.41 20L4 18.59l7.72-7.72 1.47 1.35L5.41 20z\"/>\n",
              "  </svg>\n",
              "      </button>\n",
              "      \n",
              "  <style>\n",
              "    .colab-df-container {\n",
              "      display:flex;\n",
              "      flex-wrap:wrap;\n",
              "      gap: 12px;\n",
              "    }\n",
              "\n",
              "    .colab-df-convert {\n",
              "      background-color: #E8F0FE;\n",
              "      border: none;\n",
              "      border-radius: 50%;\n",
              "      cursor: pointer;\n",
              "      display: none;\n",
              "      fill: #1967D2;\n",
              "      height: 32px;\n",
              "      padding: 0 0 0 0;\n",
              "      width: 32px;\n",
              "    }\n",
              "\n",
              "    .colab-df-convert:hover {\n",
              "      background-color: #E2EBFA;\n",
              "      box-shadow: 0px 1px 2px rgba(60, 64, 67, 0.3), 0px 1px 3px 1px rgba(60, 64, 67, 0.15);\n",
              "      fill: #174EA6;\n",
              "    }\n",
              "\n",
              "    [theme=dark] .colab-df-convert {\n",
              "      background-color: #3B4455;\n",
              "      fill: #D2E3FC;\n",
              "    }\n",
              "\n",
              "    [theme=dark] .colab-df-convert:hover {\n",
              "      background-color: #434B5C;\n",
              "      box-shadow: 0px 1px 3px 1px rgba(0, 0, 0, 0.15);\n",
              "      filter: drop-shadow(0px 1px 2px rgba(0, 0, 0, 0.3));\n",
              "      fill: #FFFFFF;\n",
              "    }\n",
              "  </style>\n",
              "\n",
              "      <script>\n",
              "        const buttonEl =\n",
              "          document.querySelector('#df-00d7a03b-9d89-4076-8ccd-e350f5053b6a button.colab-df-convert');\n",
              "        buttonEl.style.display =\n",
              "          google.colab.kernel.accessAllowed ? 'block' : 'none';\n",
              "\n",
              "        async function convertToInteractive(key) {\n",
              "          const element = document.querySelector('#df-00d7a03b-9d89-4076-8ccd-e350f5053b6a');\n",
              "          const dataTable =\n",
              "            await google.colab.kernel.invokeFunction('convertToInteractive',\n",
              "                                                     [key], {});\n",
              "          if (!dataTable) return;\n",
              "\n",
              "          const docLinkHtml = 'Like what you see? Visit the ' +\n",
              "            '<a target=\"_blank\" href=https://colab.research.google.com/notebooks/data_table.ipynb>data table notebook</a>'\n",
              "            + ' to learn more about interactive tables.';\n",
              "          element.innerHTML = '';\n",
              "          dataTable['output_type'] = 'display_data';\n",
              "          await google.colab.output.renderOutput(dataTable, element);\n",
              "          const docLink = document.createElement('div');\n",
              "          docLink.innerHTML = docLinkHtml;\n",
              "          element.appendChild(docLink);\n",
              "        }\n",
              "      </script>\n",
              "    </div>\n",
              "  </div>\n",
              "  "
            ]
          },
          "metadata": {},
          "execution_count": 3
        }
      ]
    },
    {
      "cell_type": "code",
      "source": [
        "df.columns"
      ],
      "metadata": {
        "id": "L-QT20HoGcGp",
        "colab": {
          "base_uri": "https://localhost:8080/"
        },
        "outputId": "03899d46-576d-4498-c74a-2435560e67a3"
      },
      "execution_count": 4,
      "outputs": [
        {
          "output_type": "execute_result",
          "data": {
            "text/plain": [
              "Index(['Loan_ID', 'Gender', 'Married', 'Dependents', 'Education',\n",
              "       'Self_Employed', 'ApplicantIncome', 'CoapplicantIncome', 'LoanAmount',\n",
              "       'Loan_Amount_Term', 'Credit_History', 'Property_Area', 'Loan_Status'],\n",
              "      dtype='object')"
            ]
          },
          "metadata": {},
          "execution_count": 4
        }
      ]
    },
    {
      "cell_type": "code",
      "source": [
        "# Checking for columns with excessive null values\n",
        "df.info()"
      ],
      "metadata": {
        "id": "DuNEqPQ17tY4",
        "colab": {
          "base_uri": "https://localhost:8080/"
        },
        "outputId": "020fc65c-0a7f-4c42-8a2b-5a397c3a3383"
      },
      "execution_count": 5,
      "outputs": [
        {
          "output_type": "stream",
          "name": "stdout",
          "text": [
            "<class 'pandas.core.frame.DataFrame'>\n",
            "RangeIndex: 614 entries, 0 to 613\n",
            "Data columns (total 13 columns):\n",
            " #   Column             Non-Null Count  Dtype  \n",
            "---  ------             --------------  -----  \n",
            " 0   Loan_ID            614 non-null    object \n",
            " 1   Gender             601 non-null    object \n",
            " 2   Married            611 non-null    object \n",
            " 3   Dependents         599 non-null    object \n",
            " 4   Education          614 non-null    object \n",
            " 5   Self_Employed      582 non-null    object \n",
            " 6   ApplicantIncome    614 non-null    int64  \n",
            " 7   CoapplicantIncome  614 non-null    float64\n",
            " 8   LoanAmount         592 non-null    float64\n",
            " 9   Loan_Amount_Term   600 non-null    float64\n",
            " 10  Credit_History     564 non-null    float64\n",
            " 11  Property_Area      614 non-null    object \n",
            " 12  Loan_Status        614 non-null    object \n",
            "dtypes: float64(4), int64(1), object(8)\n",
            "memory usage: 62.5+ KB\n"
          ]
        }
      ]
    },
    {
      "cell_type": "code",
      "source": [
        "df['Credit_History']"
      ],
      "metadata": {
        "id": "3Ci25dCUNS72",
        "colab": {
          "base_uri": "https://localhost:8080/"
        },
        "outputId": "cdb0db27-102b-426e-f9e4-12d2492e3549"
      },
      "execution_count": 6,
      "outputs": [
        {
          "output_type": "execute_result",
          "data": {
            "text/plain": [
              "0      1.0\n",
              "1      1.0\n",
              "2      1.0\n",
              "3      1.0\n",
              "4      1.0\n",
              "      ... \n",
              "609    1.0\n",
              "610    1.0\n",
              "611    1.0\n",
              "612    1.0\n",
              "613    0.0\n",
              "Name: Credit_History, Length: 614, dtype: float64"
            ]
          },
          "metadata": {},
          "execution_count": 6
        }
      ]
    },
    {
      "cell_type": "code",
      "source": [
        "df['LoanAmount']"
      ],
      "metadata": {
        "id": "7Fc_zOH-QFbM",
        "colab": {
          "base_uri": "https://localhost:8080/"
        },
        "outputId": "8a604534-0b27-47d9-ae47-482b08062978"
      },
      "execution_count": 7,
      "outputs": [
        {
          "output_type": "execute_result",
          "data": {
            "text/plain": [
              "0        NaN\n",
              "1      128.0\n",
              "2       66.0\n",
              "3      120.0\n",
              "4      141.0\n",
              "       ...  \n",
              "609     71.0\n",
              "610     40.0\n",
              "611    253.0\n",
              "612    187.0\n",
              "613    133.0\n",
              "Name: LoanAmount, Length: 614, dtype: float64"
            ]
          },
          "metadata": {},
          "execution_count": 7
        }
      ]
    },
    {
      "cell_type": "code",
      "source": [
        "df[['Credit_History', 'LoanAmount']]"
      ],
      "metadata": {
        "id": "0lDzlVmuY6Mq",
        "colab": {
          "base_uri": "https://localhost:8080/",
          "height": 419
        },
        "outputId": "3a322469-b93e-4143-cd45-2e5d09865483"
      },
      "execution_count": 8,
      "outputs": [
        {
          "output_type": "execute_result",
          "data": {
            "text/plain": [
              "     Credit_History  LoanAmount\n",
              "0               1.0         NaN\n",
              "1               1.0       128.0\n",
              "2               1.0        66.0\n",
              "3               1.0       120.0\n",
              "4               1.0       141.0\n",
              "..              ...         ...\n",
              "609             1.0        71.0\n",
              "610             1.0        40.0\n",
              "611             1.0       253.0\n",
              "612             1.0       187.0\n",
              "613             0.0       133.0\n",
              "\n",
              "[614 rows x 2 columns]"
            ],
            "text/html": [
              "\n",
              "  <div id=\"df-00616305-8429-4851-b9f9-5a555525d2e0\">\n",
              "    <div class=\"colab-df-container\">\n",
              "      <div>\n",
              "<style scoped>\n",
              "    .dataframe tbody tr th:only-of-type {\n",
              "        vertical-align: middle;\n",
              "    }\n",
              "\n",
              "    .dataframe tbody tr th {\n",
              "        vertical-align: top;\n",
              "    }\n",
              "\n",
              "    .dataframe thead th {\n",
              "        text-align: right;\n",
              "    }\n",
              "</style>\n",
              "<table border=\"1\" class=\"dataframe\">\n",
              "  <thead>\n",
              "    <tr style=\"text-align: right;\">\n",
              "      <th></th>\n",
              "      <th>Credit_History</th>\n",
              "      <th>LoanAmount</th>\n",
              "    </tr>\n",
              "  </thead>\n",
              "  <tbody>\n",
              "    <tr>\n",
              "      <th>0</th>\n",
              "      <td>1.0</td>\n",
              "      <td>NaN</td>\n",
              "    </tr>\n",
              "    <tr>\n",
              "      <th>1</th>\n",
              "      <td>1.0</td>\n",
              "      <td>128.0</td>\n",
              "    </tr>\n",
              "    <tr>\n",
              "      <th>2</th>\n",
              "      <td>1.0</td>\n",
              "      <td>66.0</td>\n",
              "    </tr>\n",
              "    <tr>\n",
              "      <th>3</th>\n",
              "      <td>1.0</td>\n",
              "      <td>120.0</td>\n",
              "    </tr>\n",
              "    <tr>\n",
              "      <th>4</th>\n",
              "      <td>1.0</td>\n",
              "      <td>141.0</td>\n",
              "    </tr>\n",
              "    <tr>\n",
              "      <th>...</th>\n",
              "      <td>...</td>\n",
              "      <td>...</td>\n",
              "    </tr>\n",
              "    <tr>\n",
              "      <th>609</th>\n",
              "      <td>1.0</td>\n",
              "      <td>71.0</td>\n",
              "    </tr>\n",
              "    <tr>\n",
              "      <th>610</th>\n",
              "      <td>1.0</td>\n",
              "      <td>40.0</td>\n",
              "    </tr>\n",
              "    <tr>\n",
              "      <th>611</th>\n",
              "      <td>1.0</td>\n",
              "      <td>253.0</td>\n",
              "    </tr>\n",
              "    <tr>\n",
              "      <th>612</th>\n",
              "      <td>1.0</td>\n",
              "      <td>187.0</td>\n",
              "    </tr>\n",
              "    <tr>\n",
              "      <th>613</th>\n",
              "      <td>0.0</td>\n",
              "      <td>133.0</td>\n",
              "    </tr>\n",
              "  </tbody>\n",
              "</table>\n",
              "<p>614 rows × 2 columns</p>\n",
              "</div>\n",
              "      <button class=\"colab-df-convert\" onclick=\"convertToInteractive('df-00616305-8429-4851-b9f9-5a555525d2e0')\"\n",
              "              title=\"Convert this dataframe to an interactive table.\"\n",
              "              style=\"display:none;\">\n",
              "        \n",
              "  <svg xmlns=\"http://www.w3.org/2000/svg\" height=\"24px\"viewBox=\"0 0 24 24\"\n",
              "       width=\"24px\">\n",
              "    <path d=\"M0 0h24v24H0V0z\" fill=\"none\"/>\n",
              "    <path d=\"M18.56 5.44l.94 2.06.94-2.06 2.06-.94-2.06-.94-.94-2.06-.94 2.06-2.06.94zm-11 1L8.5 8.5l.94-2.06 2.06-.94-2.06-.94L8.5 2.5l-.94 2.06-2.06.94zm10 10l.94 2.06.94-2.06 2.06-.94-2.06-.94-.94-2.06-.94 2.06-2.06.94z\"/><path d=\"M17.41 7.96l-1.37-1.37c-.4-.4-.92-.59-1.43-.59-.52 0-1.04.2-1.43.59L10.3 9.45l-7.72 7.72c-.78.78-.78 2.05 0 2.83L4 21.41c.39.39.9.59 1.41.59.51 0 1.02-.2 1.41-.59l7.78-7.78 2.81-2.81c.8-.78.8-2.07 0-2.86zM5.41 20L4 18.59l7.72-7.72 1.47 1.35L5.41 20z\"/>\n",
              "  </svg>\n",
              "      </button>\n",
              "      \n",
              "  <style>\n",
              "    .colab-df-container {\n",
              "      display:flex;\n",
              "      flex-wrap:wrap;\n",
              "      gap: 12px;\n",
              "    }\n",
              "\n",
              "    .colab-df-convert {\n",
              "      background-color: #E8F0FE;\n",
              "      border: none;\n",
              "      border-radius: 50%;\n",
              "      cursor: pointer;\n",
              "      display: none;\n",
              "      fill: #1967D2;\n",
              "      height: 32px;\n",
              "      padding: 0 0 0 0;\n",
              "      width: 32px;\n",
              "    }\n",
              "\n",
              "    .colab-df-convert:hover {\n",
              "      background-color: #E2EBFA;\n",
              "      box-shadow: 0px 1px 2px rgba(60, 64, 67, 0.3), 0px 1px 3px 1px rgba(60, 64, 67, 0.15);\n",
              "      fill: #174EA6;\n",
              "    }\n",
              "\n",
              "    [theme=dark] .colab-df-convert {\n",
              "      background-color: #3B4455;\n",
              "      fill: #D2E3FC;\n",
              "    }\n",
              "\n",
              "    [theme=dark] .colab-df-convert:hover {\n",
              "      background-color: #434B5C;\n",
              "      box-shadow: 0px 1px 3px 1px rgba(0, 0, 0, 0.15);\n",
              "      filter: drop-shadow(0px 1px 2px rgba(0, 0, 0, 0.3));\n",
              "      fill: #FFFFFF;\n",
              "    }\n",
              "  </style>\n",
              "\n",
              "      <script>\n",
              "        const buttonEl =\n",
              "          document.querySelector('#df-00616305-8429-4851-b9f9-5a555525d2e0 button.colab-df-convert');\n",
              "        buttonEl.style.display =\n",
              "          google.colab.kernel.accessAllowed ? 'block' : 'none';\n",
              "\n",
              "        async function convertToInteractive(key) {\n",
              "          const element = document.querySelector('#df-00616305-8429-4851-b9f9-5a555525d2e0');\n",
              "          const dataTable =\n",
              "            await google.colab.kernel.invokeFunction('convertToInteractive',\n",
              "                                                     [key], {});\n",
              "          if (!dataTable) return;\n",
              "\n",
              "          const docLinkHtml = 'Like what you see? Visit the ' +\n",
              "            '<a target=\"_blank\" href=https://colab.research.google.com/notebooks/data_table.ipynb>data table notebook</a>'\n",
              "            + ' to learn more about interactive tables.';\n",
              "          element.innerHTML = '';\n",
              "          dataTable['output_type'] = 'display_data';\n",
              "          await google.colab.output.renderOutput(dataTable, element);\n",
              "          const docLink = document.createElement('div');\n",
              "          docLink.innerHTML = docLinkHtml;\n",
              "          element.appendChild(docLink);\n",
              "        }\n",
              "      </script>\n",
              "    </div>\n",
              "  </div>\n",
              "  "
            ]
          },
          "metadata": {},
          "execution_count": 8
        }
      ]
    },
    {
      "cell_type": "code",
      "source": [
        "df.describe()"
      ],
      "metadata": {
        "id": "Zu3E7SS47tnp",
        "colab": {
          "base_uri": "https://localhost:8080/",
          "height": 297
        },
        "outputId": "5be60dbd-fe58-49f5-9d8e-6a70b714462d"
      },
      "execution_count": 9,
      "outputs": [
        {
          "output_type": "execute_result",
          "data": {
            "text/plain": [
              "       ApplicantIncome  CoapplicantIncome  LoanAmount  Loan_Amount_Term  \\\n",
              "count       614.000000         614.000000  592.000000         600.00000   \n",
              "mean       5403.459283        1621.245798  146.412162         342.00000   \n",
              "std        6109.041673        2926.248369   85.587325          65.12041   \n",
              "min         150.000000           0.000000    9.000000          12.00000   \n",
              "25%        2877.500000           0.000000  100.000000         360.00000   \n",
              "50%        3812.500000        1188.500000  128.000000         360.00000   \n",
              "75%        5795.000000        2297.250000  168.000000         360.00000   \n",
              "max       81000.000000       41667.000000  700.000000         480.00000   \n",
              "\n",
              "       Credit_History  \n",
              "count      564.000000  \n",
              "mean         0.842199  \n",
              "std          0.364878  \n",
              "min          0.000000  \n",
              "25%          1.000000  \n",
              "50%          1.000000  \n",
              "75%          1.000000  \n",
              "max          1.000000  "
            ],
            "text/html": [
              "\n",
              "  <div id=\"df-41bb1997-ab65-4ae4-9bb9-75161ce9d3ef\">\n",
              "    <div class=\"colab-df-container\">\n",
              "      <div>\n",
              "<style scoped>\n",
              "    .dataframe tbody tr th:only-of-type {\n",
              "        vertical-align: middle;\n",
              "    }\n",
              "\n",
              "    .dataframe tbody tr th {\n",
              "        vertical-align: top;\n",
              "    }\n",
              "\n",
              "    .dataframe thead th {\n",
              "        text-align: right;\n",
              "    }\n",
              "</style>\n",
              "<table border=\"1\" class=\"dataframe\">\n",
              "  <thead>\n",
              "    <tr style=\"text-align: right;\">\n",
              "      <th></th>\n",
              "      <th>ApplicantIncome</th>\n",
              "      <th>CoapplicantIncome</th>\n",
              "      <th>LoanAmount</th>\n",
              "      <th>Loan_Amount_Term</th>\n",
              "      <th>Credit_History</th>\n",
              "    </tr>\n",
              "  </thead>\n",
              "  <tbody>\n",
              "    <tr>\n",
              "      <th>count</th>\n",
              "      <td>614.000000</td>\n",
              "      <td>614.000000</td>\n",
              "      <td>592.000000</td>\n",
              "      <td>600.00000</td>\n",
              "      <td>564.000000</td>\n",
              "    </tr>\n",
              "    <tr>\n",
              "      <th>mean</th>\n",
              "      <td>5403.459283</td>\n",
              "      <td>1621.245798</td>\n",
              "      <td>146.412162</td>\n",
              "      <td>342.00000</td>\n",
              "      <td>0.842199</td>\n",
              "    </tr>\n",
              "    <tr>\n",
              "      <th>std</th>\n",
              "      <td>6109.041673</td>\n",
              "      <td>2926.248369</td>\n",
              "      <td>85.587325</td>\n",
              "      <td>65.12041</td>\n",
              "      <td>0.364878</td>\n",
              "    </tr>\n",
              "    <tr>\n",
              "      <th>min</th>\n",
              "      <td>150.000000</td>\n",
              "      <td>0.000000</td>\n",
              "      <td>9.000000</td>\n",
              "      <td>12.00000</td>\n",
              "      <td>0.000000</td>\n",
              "    </tr>\n",
              "    <tr>\n",
              "      <th>25%</th>\n",
              "      <td>2877.500000</td>\n",
              "      <td>0.000000</td>\n",
              "      <td>100.000000</td>\n",
              "      <td>360.00000</td>\n",
              "      <td>1.000000</td>\n",
              "    </tr>\n",
              "    <tr>\n",
              "      <th>50%</th>\n",
              "      <td>3812.500000</td>\n",
              "      <td>1188.500000</td>\n",
              "      <td>128.000000</td>\n",
              "      <td>360.00000</td>\n",
              "      <td>1.000000</td>\n",
              "    </tr>\n",
              "    <tr>\n",
              "      <th>75%</th>\n",
              "      <td>5795.000000</td>\n",
              "      <td>2297.250000</td>\n",
              "      <td>168.000000</td>\n",
              "      <td>360.00000</td>\n",
              "      <td>1.000000</td>\n",
              "    </tr>\n",
              "    <tr>\n",
              "      <th>max</th>\n",
              "      <td>81000.000000</td>\n",
              "      <td>41667.000000</td>\n",
              "      <td>700.000000</td>\n",
              "      <td>480.00000</td>\n",
              "      <td>1.000000</td>\n",
              "    </tr>\n",
              "  </tbody>\n",
              "</table>\n",
              "</div>\n",
              "      <button class=\"colab-df-convert\" onclick=\"convertToInteractive('df-41bb1997-ab65-4ae4-9bb9-75161ce9d3ef')\"\n",
              "              title=\"Convert this dataframe to an interactive table.\"\n",
              "              style=\"display:none;\">\n",
              "        \n",
              "  <svg xmlns=\"http://www.w3.org/2000/svg\" height=\"24px\"viewBox=\"0 0 24 24\"\n",
              "       width=\"24px\">\n",
              "    <path d=\"M0 0h24v24H0V0z\" fill=\"none\"/>\n",
              "    <path d=\"M18.56 5.44l.94 2.06.94-2.06 2.06-.94-2.06-.94-.94-2.06-.94 2.06-2.06.94zm-11 1L8.5 8.5l.94-2.06 2.06-.94-2.06-.94L8.5 2.5l-.94 2.06-2.06.94zm10 10l.94 2.06.94-2.06 2.06-.94-2.06-.94-.94-2.06-.94 2.06-2.06.94z\"/><path d=\"M17.41 7.96l-1.37-1.37c-.4-.4-.92-.59-1.43-.59-.52 0-1.04.2-1.43.59L10.3 9.45l-7.72 7.72c-.78.78-.78 2.05 0 2.83L4 21.41c.39.39.9.59 1.41.59.51 0 1.02-.2 1.41-.59l7.78-7.78 2.81-2.81c.8-.78.8-2.07 0-2.86zM5.41 20L4 18.59l7.72-7.72 1.47 1.35L5.41 20z\"/>\n",
              "  </svg>\n",
              "      </button>\n",
              "      \n",
              "  <style>\n",
              "    .colab-df-container {\n",
              "      display:flex;\n",
              "      flex-wrap:wrap;\n",
              "      gap: 12px;\n",
              "    }\n",
              "\n",
              "    .colab-df-convert {\n",
              "      background-color: #E8F0FE;\n",
              "      border: none;\n",
              "      border-radius: 50%;\n",
              "      cursor: pointer;\n",
              "      display: none;\n",
              "      fill: #1967D2;\n",
              "      height: 32px;\n",
              "      padding: 0 0 0 0;\n",
              "      width: 32px;\n",
              "    }\n",
              "\n",
              "    .colab-df-convert:hover {\n",
              "      background-color: #E2EBFA;\n",
              "      box-shadow: 0px 1px 2px rgba(60, 64, 67, 0.3), 0px 1px 3px 1px rgba(60, 64, 67, 0.15);\n",
              "      fill: #174EA6;\n",
              "    }\n",
              "\n",
              "    [theme=dark] .colab-df-convert {\n",
              "      background-color: #3B4455;\n",
              "      fill: #D2E3FC;\n",
              "    }\n",
              "\n",
              "    [theme=dark] .colab-df-convert:hover {\n",
              "      background-color: #434B5C;\n",
              "      box-shadow: 0px 1px 3px 1px rgba(0, 0, 0, 0.15);\n",
              "      filter: drop-shadow(0px 1px 2px rgba(0, 0, 0, 0.3));\n",
              "      fill: #FFFFFF;\n",
              "    }\n",
              "  </style>\n",
              "\n",
              "      <script>\n",
              "        const buttonEl =\n",
              "          document.querySelector('#df-41bb1997-ab65-4ae4-9bb9-75161ce9d3ef button.colab-df-convert');\n",
              "        buttonEl.style.display =\n",
              "          google.colab.kernel.accessAllowed ? 'block' : 'none';\n",
              "\n",
              "        async function convertToInteractive(key) {\n",
              "          const element = document.querySelector('#df-41bb1997-ab65-4ae4-9bb9-75161ce9d3ef');\n",
              "          const dataTable =\n",
              "            await google.colab.kernel.invokeFunction('convertToInteractive',\n",
              "                                                     [key], {});\n",
              "          if (!dataTable) return;\n",
              "\n",
              "          const docLinkHtml = 'Like what you see? Visit the ' +\n",
              "            '<a target=\"_blank\" href=https://colab.research.google.com/notebooks/data_table.ipynb>data table notebook</a>'\n",
              "            + ' to learn more about interactive tables.';\n",
              "          element.innerHTML = '';\n",
              "          dataTable['output_type'] = 'display_data';\n",
              "          await google.colab.output.renderOutput(dataTable, element);\n",
              "          const docLink = document.createElement('div');\n",
              "          docLink.innerHTML = docLinkHtml;\n",
              "          element.appendChild(docLink);\n",
              "        }\n",
              "      </script>\n",
              "    </div>\n",
              "  </div>\n",
              "  "
            ]
          },
          "metadata": {},
          "execution_count": 9
        }
      ]
    },
    {
      "cell_type": "code",
      "source": [
        "df['ApplicantIncome']"
      ],
      "metadata": {
        "id": "VLhwMTd6WN4V",
        "colab": {
          "base_uri": "https://localhost:8080/"
        },
        "outputId": "65ceee83-4305-4663-a2c9-053322dfd05c"
      },
      "execution_count": 10,
      "outputs": [
        {
          "output_type": "execute_result",
          "data": {
            "text/plain": [
              "0      5849\n",
              "1      4583\n",
              "2      3000\n",
              "3      2583\n",
              "4      6000\n",
              "       ... \n",
              "609    2900\n",
              "610    4106\n",
              "611    8072\n",
              "612    7583\n",
              "613    4583\n",
              "Name: ApplicantIncome, Length: 614, dtype: int64"
            ]
          },
          "metadata": {},
          "execution_count": 10
        }
      ]
    },
    {
      "cell_type": "code",
      "source": [
        "df.columns.size"
      ],
      "metadata": {
        "id": "plkWhEnC7tix",
        "colab": {
          "base_uri": "https://localhost:8080/"
        },
        "outputId": "3379592e-576d-4f51-97ec-b5b180f85bb6"
      },
      "execution_count": 11,
      "outputs": [
        {
          "output_type": "execute_result",
          "data": {
            "text/plain": [
              "13"
            ]
          },
          "metadata": {},
          "execution_count": 11
        }
      ]
    },
    {
      "cell_type": "code",
      "source": [
        "df.columns"
      ],
      "metadata": {
        "id": "zBnpIJifBjBL",
        "colab": {
          "base_uri": "https://localhost:8080/"
        },
        "outputId": "b04c12bd-f569-4e9b-c7ff-9755c9d71640"
      },
      "execution_count": 12,
      "outputs": [
        {
          "output_type": "execute_result",
          "data": {
            "text/plain": [
              "Index(['Loan_ID', 'Gender', 'Married', 'Dependents', 'Education',\n",
              "       'Self_Employed', 'ApplicantIncome', 'CoapplicantIncome', 'LoanAmount',\n",
              "       'Loan_Amount_Term', 'Credit_History', 'Property_Area', 'Loan_Status'],\n",
              "      dtype='object')"
            ]
          },
          "metadata": {},
          "execution_count": 12
        }
      ]
    },
    {
      "cell_type": "code",
      "source": [
        "df.columns[12]"
      ],
      "metadata": {
        "id": "VJ0MDgCPC4cd",
        "colab": {
          "base_uri": "https://localhost:8080/",
          "height": 37
        },
        "outputId": "a1cbb4d1-b2d5-4604-e494-8c3ca8af8468"
      },
      "execution_count": 13,
      "outputs": [
        {
          "output_type": "execute_result",
          "data": {
            "text/plain": [
              "'Loan_Status'"
            ],
            "application/vnd.google.colaboratory.intrinsic+json": {
              "type": "string"
            }
          },
          "metadata": {},
          "execution_count": 13
        }
      ]
    },
    {
      "cell_type": "code",
      "source": [
        "df['CoapplicantIncome']"
      ],
      "metadata": {
        "id": "yvrgewZTbWHy",
        "colab": {
          "base_uri": "https://localhost:8080/"
        },
        "outputId": "799a4e54-6ab1-4d84-b19a-e94744bc40ae"
      },
      "execution_count": 14,
      "outputs": [
        {
          "output_type": "execute_result",
          "data": {
            "text/plain": [
              "0         0.0\n",
              "1      1508.0\n",
              "2         0.0\n",
              "3      2358.0\n",
              "4         0.0\n",
              "        ...  \n",
              "609       0.0\n",
              "610       0.0\n",
              "611     240.0\n",
              "612       0.0\n",
              "613       0.0\n",
              "Name: CoapplicantIncome, Length: 614, dtype: float64"
            ]
          },
          "metadata": {},
          "execution_count": 14
        }
      ]
    },
    {
      "cell_type": "markdown",
      "source": [
        "### Deleting and Modifying Columns"
      ],
      "metadata": {
        "id": "ZR0da__S9-Jc"
      }
    },
    {
      "cell_type": "code",
      "source": [
        "df.columns"
      ],
      "metadata": {
        "colab": {
          "base_uri": "https://localhost:8080/"
        },
        "id": "AeJ6C1t8e5zj",
        "outputId": "5dab97de-0a3f-44b1-9189-4f917316fdc3"
      },
      "execution_count": 15,
      "outputs": [
        {
          "output_type": "execute_result",
          "data": {
            "text/plain": [
              "Index(['Loan_ID', 'Gender', 'Married', 'Dependents', 'Education',\n",
              "       'Self_Employed', 'ApplicantIncome', 'CoapplicantIncome', 'LoanAmount',\n",
              "       'Loan_Amount_Term', 'Credit_History', 'Property_Area', 'Loan_Status'],\n",
              "      dtype='object')"
            ]
          },
          "metadata": {},
          "execution_count": 15
        }
      ]
    },
    {
      "cell_type": "code",
      "source": [
        "df['Credit_History'].unique()"
      ],
      "metadata": {
        "colab": {
          "base_uri": "https://localhost:8080/"
        },
        "id": "xxq-SRktOrae",
        "outputId": "bb2d9010-70c5-4121-84ef-5b19c9b60c39"
      },
      "execution_count": 16,
      "outputs": [
        {
          "output_type": "execute_result",
          "data": {
            "text/plain": [
              "array([ 1.,  0., nan])"
            ]
          },
          "metadata": {},
          "execution_count": 16
        }
      ]
    },
    {
      "cell_type": "code",
      "source": [
        "df['Loan_Amount_Term'].unique()"
      ],
      "metadata": {
        "colab": {
          "base_uri": "https://localhost:8080/"
        },
        "id": "MQO9-7vJSTWc",
        "outputId": "1572b1fe-7a2b-4132-bd6d-db655fc6bad2"
      },
      "execution_count": 17,
      "outputs": [
        {
          "output_type": "execute_result",
          "data": {
            "text/plain": [
              "array([360., 120., 240.,  nan, 180.,  60., 300., 480.,  36.,  84.,  12.])"
            ]
          },
          "metadata": {},
          "execution_count": 17
        }
      ]
    },
    {
      "cell_type": "code",
      "source": [
        "# Deleting rows containing an null Credit History and Loan Amount\n",
        "# Modifying the dateframe directly because these modifications are necesary for every data split\n",
        "df.dropna(subset=['Credit_History', 'LoanAmount', 'Loan_Amount_Term'], inplace=True)"
      ],
      "metadata": {
        "id": "SM-ofiKzP-Ph"
      },
      "execution_count": 18,
      "outputs": []
    },
    {
      "cell_type": "code",
      "source": [
        "total_income = np.arange(0, 529)"
      ],
      "metadata": {
        "id": "at6xa--VgpRY"
      },
      "execution_count": 19,
      "outputs": []
    },
    {
      "cell_type": "code",
      "source": [
        "df.insert(3, \"Total_Income\", total_income, True)"
      ],
      "metadata": {
        "id": "MO8eYfa2_NKp"
      },
      "execution_count": 20,
      "outputs": []
    },
    {
      "cell_type": "code",
      "source": [
        "df.info()"
      ],
      "metadata": {
        "id": "DQpQ2xzxhePM",
        "colab": {
          "base_uri": "https://localhost:8080/"
        },
        "outputId": "46e78a9e-603d-40fa-d1f4-a5d41b23398c"
      },
      "execution_count": 21,
      "outputs": [
        {
          "output_type": "stream",
          "name": "stdout",
          "text": [
            "<class 'pandas.core.frame.DataFrame'>\n",
            "Int64Index: 529 entries, 1 to 613\n",
            "Data columns (total 14 columns):\n",
            " #   Column             Non-Null Count  Dtype  \n",
            "---  ------             --------------  -----  \n",
            " 0   Loan_ID            529 non-null    object \n",
            " 1   Gender             517 non-null    object \n",
            " 2   Married            527 non-null    object \n",
            " 3   Total_Income       529 non-null    int64  \n",
            " 4   Dependents         517 non-null    object \n",
            " 5   Education          529 non-null    object \n",
            " 6   Self_Employed      504 non-null    object \n",
            " 7   ApplicantIncome    529 non-null    int64  \n",
            " 8   CoapplicantIncome  529 non-null    float64\n",
            " 9   LoanAmount         529 non-null    float64\n",
            " 10  Loan_Amount_Term   529 non-null    float64\n",
            " 11  Credit_History     529 non-null    float64\n",
            " 12  Property_Area      529 non-null    object \n",
            " 13  Loan_Status        529 non-null    object \n",
            "dtypes: float64(4), int64(2), object(8)\n",
            "memory usage: 62.0+ KB\n"
          ]
        }
      ]
    },
    {
      "cell_type": "code",
      "source": [
        "# combining the applicant and coapplicants data into one column\n",
        "\"\"\"\n",
        "Definition: This method combines the values of two columns.\n",
        "\"\"\"\n",
        "i = 1\n",
        "for x, y, z in zip(df['ApplicantIncome'], df['CoapplicantIncome'], df['Total_Income']):\n",
        "  print(x + y, \"\\n\\n\")\n",
        "  df['Total_Income'][i] = x + y\n",
        "\n",
        "  i = i + 1\n",
        "  "
      ],
      "metadata": {
        "id": "fB2DVdux-ZG1"
      },
      "execution_count": null,
      "outputs": []
    },
    {
      "cell_type": "code",
      "source": [
        "df"
      ],
      "metadata": {
        "id": "2T1a-yqs53w-",
        "colab": {
          "base_uri": "https://localhost:8080/",
          "height": 500
        },
        "outputId": "a2ace991-6578-4764-bc7e-a373eb35dc86"
      },
      "execution_count": 23,
      "outputs": [
        {
          "output_type": "execute_result",
          "data": {
            "text/plain": [
              "      Loan_ID  Gender Married  Total_Income Dependents     Education  \\\n",
              "1    LP001003    Male     Yes          6091          1      Graduate   \n",
              "2    LP001005    Male     Yes          3000          0      Graduate   \n",
              "3    LP001006    Male     Yes          4941          0  Not Graduate   \n",
              "4    LP001008    Male      No          6000          0      Graduate   \n",
              "5    LP001011    Male     Yes          9613          2      Graduate   \n",
              "..        ...     ...     ...           ...        ...           ...   \n",
              "609  LP002978  Female      No           524          0      Graduate   \n",
              "610  LP002979    Male     Yes           525         3+      Graduate   \n",
              "611  LP002983    Male     Yes           526          1      Graduate   \n",
              "612  LP002984    Male     Yes           527          2      Graduate   \n",
              "613  LP002990  Female      No           528          0      Graduate   \n",
              "\n",
              "    Self_Employed  ApplicantIncome  CoapplicantIncome  LoanAmount  \\\n",
              "1              No             4583             1508.0       128.0   \n",
              "2             Yes             3000                0.0        66.0   \n",
              "3              No             2583             2358.0       120.0   \n",
              "4              No             6000                0.0       141.0   \n",
              "5             Yes             5417             4196.0       267.0   \n",
              "..            ...              ...                ...         ...   \n",
              "609            No             2900                0.0        71.0   \n",
              "610            No             4106                0.0        40.0   \n",
              "611            No             8072              240.0       253.0   \n",
              "612            No             7583                0.0       187.0   \n",
              "613           Yes             4583                0.0       133.0   \n",
              "\n",
              "     Loan_Amount_Term  Credit_History Property_Area Loan_Status  \n",
              "1               360.0             1.0         Rural           N  \n",
              "2               360.0             1.0         Urban           Y  \n",
              "3               360.0             1.0         Urban           Y  \n",
              "4               360.0             1.0         Urban           Y  \n",
              "5               360.0             1.0         Urban           Y  \n",
              "..                ...             ...           ...         ...  \n",
              "609             360.0             1.0         Rural           Y  \n",
              "610             180.0             1.0         Rural           Y  \n",
              "611             360.0             1.0         Urban           Y  \n",
              "612             360.0             1.0         Urban           Y  \n",
              "613             360.0             0.0     Semiurban           N  \n",
              "\n",
              "[529 rows x 14 columns]"
            ],
            "text/html": [
              "\n",
              "  <div id=\"df-8008013b-9bce-42ea-902b-2152cf6d9e39\">\n",
              "    <div class=\"colab-df-container\">\n",
              "      <div>\n",
              "<style scoped>\n",
              "    .dataframe tbody tr th:only-of-type {\n",
              "        vertical-align: middle;\n",
              "    }\n",
              "\n",
              "    .dataframe tbody tr th {\n",
              "        vertical-align: top;\n",
              "    }\n",
              "\n",
              "    .dataframe thead th {\n",
              "        text-align: right;\n",
              "    }\n",
              "</style>\n",
              "<table border=\"1\" class=\"dataframe\">\n",
              "  <thead>\n",
              "    <tr style=\"text-align: right;\">\n",
              "      <th></th>\n",
              "      <th>Loan_ID</th>\n",
              "      <th>Gender</th>\n",
              "      <th>Married</th>\n",
              "      <th>Total_Income</th>\n",
              "      <th>Dependents</th>\n",
              "      <th>Education</th>\n",
              "      <th>Self_Employed</th>\n",
              "      <th>ApplicantIncome</th>\n",
              "      <th>CoapplicantIncome</th>\n",
              "      <th>LoanAmount</th>\n",
              "      <th>Loan_Amount_Term</th>\n",
              "      <th>Credit_History</th>\n",
              "      <th>Property_Area</th>\n",
              "      <th>Loan_Status</th>\n",
              "    </tr>\n",
              "  </thead>\n",
              "  <tbody>\n",
              "    <tr>\n",
              "      <th>1</th>\n",
              "      <td>LP001003</td>\n",
              "      <td>Male</td>\n",
              "      <td>Yes</td>\n",
              "      <td>6091</td>\n",
              "      <td>1</td>\n",
              "      <td>Graduate</td>\n",
              "      <td>No</td>\n",
              "      <td>4583</td>\n",
              "      <td>1508.0</td>\n",
              "      <td>128.0</td>\n",
              "      <td>360.0</td>\n",
              "      <td>1.0</td>\n",
              "      <td>Rural</td>\n",
              "      <td>N</td>\n",
              "    </tr>\n",
              "    <tr>\n",
              "      <th>2</th>\n",
              "      <td>LP001005</td>\n",
              "      <td>Male</td>\n",
              "      <td>Yes</td>\n",
              "      <td>3000</td>\n",
              "      <td>0</td>\n",
              "      <td>Graduate</td>\n",
              "      <td>Yes</td>\n",
              "      <td>3000</td>\n",
              "      <td>0.0</td>\n",
              "      <td>66.0</td>\n",
              "      <td>360.0</td>\n",
              "      <td>1.0</td>\n",
              "      <td>Urban</td>\n",
              "      <td>Y</td>\n",
              "    </tr>\n",
              "    <tr>\n",
              "      <th>3</th>\n",
              "      <td>LP001006</td>\n",
              "      <td>Male</td>\n",
              "      <td>Yes</td>\n",
              "      <td>4941</td>\n",
              "      <td>0</td>\n",
              "      <td>Not Graduate</td>\n",
              "      <td>No</td>\n",
              "      <td>2583</td>\n",
              "      <td>2358.0</td>\n",
              "      <td>120.0</td>\n",
              "      <td>360.0</td>\n",
              "      <td>1.0</td>\n",
              "      <td>Urban</td>\n",
              "      <td>Y</td>\n",
              "    </tr>\n",
              "    <tr>\n",
              "      <th>4</th>\n",
              "      <td>LP001008</td>\n",
              "      <td>Male</td>\n",
              "      <td>No</td>\n",
              "      <td>6000</td>\n",
              "      <td>0</td>\n",
              "      <td>Graduate</td>\n",
              "      <td>No</td>\n",
              "      <td>6000</td>\n",
              "      <td>0.0</td>\n",
              "      <td>141.0</td>\n",
              "      <td>360.0</td>\n",
              "      <td>1.0</td>\n",
              "      <td>Urban</td>\n",
              "      <td>Y</td>\n",
              "    </tr>\n",
              "    <tr>\n",
              "      <th>5</th>\n",
              "      <td>LP001011</td>\n",
              "      <td>Male</td>\n",
              "      <td>Yes</td>\n",
              "      <td>9613</td>\n",
              "      <td>2</td>\n",
              "      <td>Graduate</td>\n",
              "      <td>Yes</td>\n",
              "      <td>5417</td>\n",
              "      <td>4196.0</td>\n",
              "      <td>267.0</td>\n",
              "      <td>360.0</td>\n",
              "      <td>1.0</td>\n",
              "      <td>Urban</td>\n",
              "      <td>Y</td>\n",
              "    </tr>\n",
              "    <tr>\n",
              "      <th>...</th>\n",
              "      <td>...</td>\n",
              "      <td>...</td>\n",
              "      <td>...</td>\n",
              "      <td>...</td>\n",
              "      <td>...</td>\n",
              "      <td>...</td>\n",
              "      <td>...</td>\n",
              "      <td>...</td>\n",
              "      <td>...</td>\n",
              "      <td>...</td>\n",
              "      <td>...</td>\n",
              "      <td>...</td>\n",
              "      <td>...</td>\n",
              "      <td>...</td>\n",
              "    </tr>\n",
              "    <tr>\n",
              "      <th>609</th>\n",
              "      <td>LP002978</td>\n",
              "      <td>Female</td>\n",
              "      <td>No</td>\n",
              "      <td>524</td>\n",
              "      <td>0</td>\n",
              "      <td>Graduate</td>\n",
              "      <td>No</td>\n",
              "      <td>2900</td>\n",
              "      <td>0.0</td>\n",
              "      <td>71.0</td>\n",
              "      <td>360.0</td>\n",
              "      <td>1.0</td>\n",
              "      <td>Rural</td>\n",
              "      <td>Y</td>\n",
              "    </tr>\n",
              "    <tr>\n",
              "      <th>610</th>\n",
              "      <td>LP002979</td>\n",
              "      <td>Male</td>\n",
              "      <td>Yes</td>\n",
              "      <td>525</td>\n",
              "      <td>3+</td>\n",
              "      <td>Graduate</td>\n",
              "      <td>No</td>\n",
              "      <td>4106</td>\n",
              "      <td>0.0</td>\n",
              "      <td>40.0</td>\n",
              "      <td>180.0</td>\n",
              "      <td>1.0</td>\n",
              "      <td>Rural</td>\n",
              "      <td>Y</td>\n",
              "    </tr>\n",
              "    <tr>\n",
              "      <th>611</th>\n",
              "      <td>LP002983</td>\n",
              "      <td>Male</td>\n",
              "      <td>Yes</td>\n",
              "      <td>526</td>\n",
              "      <td>1</td>\n",
              "      <td>Graduate</td>\n",
              "      <td>No</td>\n",
              "      <td>8072</td>\n",
              "      <td>240.0</td>\n",
              "      <td>253.0</td>\n",
              "      <td>360.0</td>\n",
              "      <td>1.0</td>\n",
              "      <td>Urban</td>\n",
              "      <td>Y</td>\n",
              "    </tr>\n",
              "    <tr>\n",
              "      <th>612</th>\n",
              "      <td>LP002984</td>\n",
              "      <td>Male</td>\n",
              "      <td>Yes</td>\n",
              "      <td>527</td>\n",
              "      <td>2</td>\n",
              "      <td>Graduate</td>\n",
              "      <td>No</td>\n",
              "      <td>7583</td>\n",
              "      <td>0.0</td>\n",
              "      <td>187.0</td>\n",
              "      <td>360.0</td>\n",
              "      <td>1.0</td>\n",
              "      <td>Urban</td>\n",
              "      <td>Y</td>\n",
              "    </tr>\n",
              "    <tr>\n",
              "      <th>613</th>\n",
              "      <td>LP002990</td>\n",
              "      <td>Female</td>\n",
              "      <td>No</td>\n",
              "      <td>528</td>\n",
              "      <td>0</td>\n",
              "      <td>Graduate</td>\n",
              "      <td>Yes</td>\n",
              "      <td>4583</td>\n",
              "      <td>0.0</td>\n",
              "      <td>133.0</td>\n",
              "      <td>360.0</td>\n",
              "      <td>0.0</td>\n",
              "      <td>Semiurban</td>\n",
              "      <td>N</td>\n",
              "    </tr>\n",
              "  </tbody>\n",
              "</table>\n",
              "<p>529 rows × 14 columns</p>\n",
              "</div>\n",
              "      <button class=\"colab-df-convert\" onclick=\"convertToInteractive('df-8008013b-9bce-42ea-902b-2152cf6d9e39')\"\n",
              "              title=\"Convert this dataframe to an interactive table.\"\n",
              "              style=\"display:none;\">\n",
              "        \n",
              "  <svg xmlns=\"http://www.w3.org/2000/svg\" height=\"24px\"viewBox=\"0 0 24 24\"\n",
              "       width=\"24px\">\n",
              "    <path d=\"M0 0h24v24H0V0z\" fill=\"none\"/>\n",
              "    <path d=\"M18.56 5.44l.94 2.06.94-2.06 2.06-.94-2.06-.94-.94-2.06-.94 2.06-2.06.94zm-11 1L8.5 8.5l.94-2.06 2.06-.94-2.06-.94L8.5 2.5l-.94 2.06-2.06.94zm10 10l.94 2.06.94-2.06 2.06-.94-2.06-.94-.94-2.06-.94 2.06-2.06.94z\"/><path d=\"M17.41 7.96l-1.37-1.37c-.4-.4-.92-.59-1.43-.59-.52 0-1.04.2-1.43.59L10.3 9.45l-7.72 7.72c-.78.78-.78 2.05 0 2.83L4 21.41c.39.39.9.59 1.41.59.51 0 1.02-.2 1.41-.59l7.78-7.78 2.81-2.81c.8-.78.8-2.07 0-2.86zM5.41 20L4 18.59l7.72-7.72 1.47 1.35L5.41 20z\"/>\n",
              "  </svg>\n",
              "      </button>\n",
              "      \n",
              "  <style>\n",
              "    .colab-df-container {\n",
              "      display:flex;\n",
              "      flex-wrap:wrap;\n",
              "      gap: 12px;\n",
              "    }\n",
              "\n",
              "    .colab-df-convert {\n",
              "      background-color: #E8F0FE;\n",
              "      border: none;\n",
              "      border-radius: 50%;\n",
              "      cursor: pointer;\n",
              "      display: none;\n",
              "      fill: #1967D2;\n",
              "      height: 32px;\n",
              "      padding: 0 0 0 0;\n",
              "      width: 32px;\n",
              "    }\n",
              "\n",
              "    .colab-df-convert:hover {\n",
              "      background-color: #E2EBFA;\n",
              "      box-shadow: 0px 1px 2px rgba(60, 64, 67, 0.3), 0px 1px 3px 1px rgba(60, 64, 67, 0.15);\n",
              "      fill: #174EA6;\n",
              "    }\n",
              "\n",
              "    [theme=dark] .colab-df-convert {\n",
              "      background-color: #3B4455;\n",
              "      fill: #D2E3FC;\n",
              "    }\n",
              "\n",
              "    [theme=dark] .colab-df-convert:hover {\n",
              "      background-color: #434B5C;\n",
              "      box-shadow: 0px 1px 3px 1px rgba(0, 0, 0, 0.15);\n",
              "      filter: drop-shadow(0px 1px 2px rgba(0, 0, 0, 0.3));\n",
              "      fill: #FFFFFF;\n",
              "    }\n",
              "  </style>\n",
              "\n",
              "      <script>\n",
              "        const buttonEl =\n",
              "          document.querySelector('#df-8008013b-9bce-42ea-902b-2152cf6d9e39 button.colab-df-convert');\n",
              "        buttonEl.style.display =\n",
              "          google.colab.kernel.accessAllowed ? 'block' : 'none';\n",
              "\n",
              "        async function convertToInteractive(key) {\n",
              "          const element = document.querySelector('#df-8008013b-9bce-42ea-902b-2152cf6d9e39');\n",
              "          const dataTable =\n",
              "            await google.colab.kernel.invokeFunction('convertToInteractive',\n",
              "                                                     [key], {});\n",
              "          if (!dataTable) return;\n",
              "\n",
              "          const docLinkHtml = 'Like what you see? Visit the ' +\n",
              "            '<a target=\"_blank\" href=https://colab.research.google.com/notebooks/data_table.ipynb>data table notebook</a>'\n",
              "            + ' to learn more about interactive tables.';\n",
              "          element.innerHTML = '';\n",
              "          dataTable['output_type'] = 'display_data';\n",
              "          await google.colab.output.renderOutput(dataTable, element);\n",
              "          const docLink = document.createElement('div');\n",
              "          docLink.innerHTML = docLinkHtml;\n",
              "          element.appendChild(docLink);\n",
              "        }\n",
              "      </script>\n",
              "    </div>\n",
              "  </div>\n",
              "  "
            ]
          },
          "metadata": {},
          "execution_count": 23
        }
      ]
    },
    {
      "cell_type": "code",
      "source": [
        "df.drop(columns=['CoapplicantIncome', 'ApplicantIncome', 'Education', 'Property_Area', 'Married'], inplace=True)"
      ],
      "metadata": {
        "id": "YzArAYdglmzG"
      },
      "execution_count": 24,
      "outputs": []
    },
    {
      "cell_type": "code",
      "source": [
        "df"
      ],
      "metadata": {
        "id": "IPATHU4pYjFH",
        "colab": {
          "base_uri": "https://localhost:8080/",
          "height": 419
        },
        "outputId": "131881be-107d-4547-d5cd-025aedb2dd71"
      },
      "execution_count": 25,
      "outputs": [
        {
          "output_type": "execute_result",
          "data": {
            "text/plain": [
              "      Loan_ID  Gender  Total_Income Dependents Self_Employed  LoanAmount  \\\n",
              "1    LP001003    Male          6091          1            No       128.0   \n",
              "2    LP001005    Male          3000          0           Yes        66.0   \n",
              "3    LP001006    Male          4941          0            No       120.0   \n",
              "4    LP001008    Male          6000          0            No       141.0   \n",
              "5    LP001011    Male          9613          2           Yes       267.0   \n",
              "..        ...     ...           ...        ...           ...         ...   \n",
              "609  LP002978  Female           524          0            No        71.0   \n",
              "610  LP002979    Male           525         3+            No        40.0   \n",
              "611  LP002983    Male           526          1            No       253.0   \n",
              "612  LP002984    Male           527          2            No       187.0   \n",
              "613  LP002990  Female           528          0           Yes       133.0   \n",
              "\n",
              "     Loan_Amount_Term  Credit_History Loan_Status  \n",
              "1               360.0             1.0           N  \n",
              "2               360.0             1.0           Y  \n",
              "3               360.0             1.0           Y  \n",
              "4               360.0             1.0           Y  \n",
              "5               360.0             1.0           Y  \n",
              "..                ...             ...         ...  \n",
              "609             360.0             1.0           Y  \n",
              "610             180.0             1.0           Y  \n",
              "611             360.0             1.0           Y  \n",
              "612             360.0             1.0           Y  \n",
              "613             360.0             0.0           N  \n",
              "\n",
              "[529 rows x 9 columns]"
            ],
            "text/html": [
              "\n",
              "  <div id=\"df-db83083b-6356-43e0-872a-7ff9384fffba\">\n",
              "    <div class=\"colab-df-container\">\n",
              "      <div>\n",
              "<style scoped>\n",
              "    .dataframe tbody tr th:only-of-type {\n",
              "        vertical-align: middle;\n",
              "    }\n",
              "\n",
              "    .dataframe tbody tr th {\n",
              "        vertical-align: top;\n",
              "    }\n",
              "\n",
              "    .dataframe thead th {\n",
              "        text-align: right;\n",
              "    }\n",
              "</style>\n",
              "<table border=\"1\" class=\"dataframe\">\n",
              "  <thead>\n",
              "    <tr style=\"text-align: right;\">\n",
              "      <th></th>\n",
              "      <th>Loan_ID</th>\n",
              "      <th>Gender</th>\n",
              "      <th>Total_Income</th>\n",
              "      <th>Dependents</th>\n",
              "      <th>Self_Employed</th>\n",
              "      <th>LoanAmount</th>\n",
              "      <th>Loan_Amount_Term</th>\n",
              "      <th>Credit_History</th>\n",
              "      <th>Loan_Status</th>\n",
              "    </tr>\n",
              "  </thead>\n",
              "  <tbody>\n",
              "    <tr>\n",
              "      <th>1</th>\n",
              "      <td>LP001003</td>\n",
              "      <td>Male</td>\n",
              "      <td>6091</td>\n",
              "      <td>1</td>\n",
              "      <td>No</td>\n",
              "      <td>128.0</td>\n",
              "      <td>360.0</td>\n",
              "      <td>1.0</td>\n",
              "      <td>N</td>\n",
              "    </tr>\n",
              "    <tr>\n",
              "      <th>2</th>\n",
              "      <td>LP001005</td>\n",
              "      <td>Male</td>\n",
              "      <td>3000</td>\n",
              "      <td>0</td>\n",
              "      <td>Yes</td>\n",
              "      <td>66.0</td>\n",
              "      <td>360.0</td>\n",
              "      <td>1.0</td>\n",
              "      <td>Y</td>\n",
              "    </tr>\n",
              "    <tr>\n",
              "      <th>3</th>\n",
              "      <td>LP001006</td>\n",
              "      <td>Male</td>\n",
              "      <td>4941</td>\n",
              "      <td>0</td>\n",
              "      <td>No</td>\n",
              "      <td>120.0</td>\n",
              "      <td>360.0</td>\n",
              "      <td>1.0</td>\n",
              "      <td>Y</td>\n",
              "    </tr>\n",
              "    <tr>\n",
              "      <th>4</th>\n",
              "      <td>LP001008</td>\n",
              "      <td>Male</td>\n",
              "      <td>6000</td>\n",
              "      <td>0</td>\n",
              "      <td>No</td>\n",
              "      <td>141.0</td>\n",
              "      <td>360.0</td>\n",
              "      <td>1.0</td>\n",
              "      <td>Y</td>\n",
              "    </tr>\n",
              "    <tr>\n",
              "      <th>5</th>\n",
              "      <td>LP001011</td>\n",
              "      <td>Male</td>\n",
              "      <td>9613</td>\n",
              "      <td>2</td>\n",
              "      <td>Yes</td>\n",
              "      <td>267.0</td>\n",
              "      <td>360.0</td>\n",
              "      <td>1.0</td>\n",
              "      <td>Y</td>\n",
              "    </tr>\n",
              "    <tr>\n",
              "      <th>...</th>\n",
              "      <td>...</td>\n",
              "      <td>...</td>\n",
              "      <td>...</td>\n",
              "      <td>...</td>\n",
              "      <td>...</td>\n",
              "      <td>...</td>\n",
              "      <td>...</td>\n",
              "      <td>...</td>\n",
              "      <td>...</td>\n",
              "    </tr>\n",
              "    <tr>\n",
              "      <th>609</th>\n",
              "      <td>LP002978</td>\n",
              "      <td>Female</td>\n",
              "      <td>524</td>\n",
              "      <td>0</td>\n",
              "      <td>No</td>\n",
              "      <td>71.0</td>\n",
              "      <td>360.0</td>\n",
              "      <td>1.0</td>\n",
              "      <td>Y</td>\n",
              "    </tr>\n",
              "    <tr>\n",
              "      <th>610</th>\n",
              "      <td>LP002979</td>\n",
              "      <td>Male</td>\n",
              "      <td>525</td>\n",
              "      <td>3+</td>\n",
              "      <td>No</td>\n",
              "      <td>40.0</td>\n",
              "      <td>180.0</td>\n",
              "      <td>1.0</td>\n",
              "      <td>Y</td>\n",
              "    </tr>\n",
              "    <tr>\n",
              "      <th>611</th>\n",
              "      <td>LP002983</td>\n",
              "      <td>Male</td>\n",
              "      <td>526</td>\n",
              "      <td>1</td>\n",
              "      <td>No</td>\n",
              "      <td>253.0</td>\n",
              "      <td>360.0</td>\n",
              "      <td>1.0</td>\n",
              "      <td>Y</td>\n",
              "    </tr>\n",
              "    <tr>\n",
              "      <th>612</th>\n",
              "      <td>LP002984</td>\n",
              "      <td>Male</td>\n",
              "      <td>527</td>\n",
              "      <td>2</td>\n",
              "      <td>No</td>\n",
              "      <td>187.0</td>\n",
              "      <td>360.0</td>\n",
              "      <td>1.0</td>\n",
              "      <td>Y</td>\n",
              "    </tr>\n",
              "    <tr>\n",
              "      <th>613</th>\n",
              "      <td>LP002990</td>\n",
              "      <td>Female</td>\n",
              "      <td>528</td>\n",
              "      <td>0</td>\n",
              "      <td>Yes</td>\n",
              "      <td>133.0</td>\n",
              "      <td>360.0</td>\n",
              "      <td>0.0</td>\n",
              "      <td>N</td>\n",
              "    </tr>\n",
              "  </tbody>\n",
              "</table>\n",
              "<p>529 rows × 9 columns</p>\n",
              "</div>\n",
              "      <button class=\"colab-df-convert\" onclick=\"convertToInteractive('df-db83083b-6356-43e0-872a-7ff9384fffba')\"\n",
              "              title=\"Convert this dataframe to an interactive table.\"\n",
              "              style=\"display:none;\">\n",
              "        \n",
              "  <svg xmlns=\"http://www.w3.org/2000/svg\" height=\"24px\"viewBox=\"0 0 24 24\"\n",
              "       width=\"24px\">\n",
              "    <path d=\"M0 0h24v24H0V0z\" fill=\"none\"/>\n",
              "    <path d=\"M18.56 5.44l.94 2.06.94-2.06 2.06-.94-2.06-.94-.94-2.06-.94 2.06-2.06.94zm-11 1L8.5 8.5l.94-2.06 2.06-.94-2.06-.94L8.5 2.5l-.94 2.06-2.06.94zm10 10l.94 2.06.94-2.06 2.06-.94-2.06-.94-.94-2.06-.94 2.06-2.06.94z\"/><path d=\"M17.41 7.96l-1.37-1.37c-.4-.4-.92-.59-1.43-.59-.52 0-1.04.2-1.43.59L10.3 9.45l-7.72 7.72c-.78.78-.78 2.05 0 2.83L4 21.41c.39.39.9.59 1.41.59.51 0 1.02-.2 1.41-.59l7.78-7.78 2.81-2.81c.8-.78.8-2.07 0-2.86zM5.41 20L4 18.59l7.72-7.72 1.47 1.35L5.41 20z\"/>\n",
              "  </svg>\n",
              "      </button>\n",
              "      \n",
              "  <style>\n",
              "    .colab-df-container {\n",
              "      display:flex;\n",
              "      flex-wrap:wrap;\n",
              "      gap: 12px;\n",
              "    }\n",
              "\n",
              "    .colab-df-convert {\n",
              "      background-color: #E8F0FE;\n",
              "      border: none;\n",
              "      border-radius: 50%;\n",
              "      cursor: pointer;\n",
              "      display: none;\n",
              "      fill: #1967D2;\n",
              "      height: 32px;\n",
              "      padding: 0 0 0 0;\n",
              "      width: 32px;\n",
              "    }\n",
              "\n",
              "    .colab-df-convert:hover {\n",
              "      background-color: #E2EBFA;\n",
              "      box-shadow: 0px 1px 2px rgba(60, 64, 67, 0.3), 0px 1px 3px 1px rgba(60, 64, 67, 0.15);\n",
              "      fill: #174EA6;\n",
              "    }\n",
              "\n",
              "    [theme=dark] .colab-df-convert {\n",
              "      background-color: #3B4455;\n",
              "      fill: #D2E3FC;\n",
              "    }\n",
              "\n",
              "    [theme=dark] .colab-df-convert:hover {\n",
              "      background-color: #434B5C;\n",
              "      box-shadow: 0px 1px 3px 1px rgba(0, 0, 0, 0.15);\n",
              "      filter: drop-shadow(0px 1px 2px rgba(0, 0, 0, 0.3));\n",
              "      fill: #FFFFFF;\n",
              "    }\n",
              "  </style>\n",
              "\n",
              "      <script>\n",
              "        const buttonEl =\n",
              "          document.querySelector('#df-db83083b-6356-43e0-872a-7ff9384fffba button.colab-df-convert');\n",
              "        buttonEl.style.display =\n",
              "          google.colab.kernel.accessAllowed ? 'block' : 'none';\n",
              "\n",
              "        async function convertToInteractive(key) {\n",
              "          const element = document.querySelector('#df-db83083b-6356-43e0-872a-7ff9384fffba');\n",
              "          const dataTable =\n",
              "            await google.colab.kernel.invokeFunction('convertToInteractive',\n",
              "                                                     [key], {});\n",
              "          if (!dataTable) return;\n",
              "\n",
              "          const docLinkHtml = 'Like what you see? Visit the ' +\n",
              "            '<a target=\"_blank\" href=https://colab.research.google.com/notebooks/data_table.ipynb>data table notebook</a>'\n",
              "            + ' to learn more about interactive tables.';\n",
              "          element.innerHTML = '';\n",
              "          dataTable['output_type'] = 'display_data';\n",
              "          await google.colab.output.renderOutput(dataTable, element);\n",
              "          const docLink = document.createElement('div');\n",
              "          docLink.innerHTML = docLinkHtml;\n",
              "          element.appendChild(docLink);\n",
              "        }\n",
              "      </script>\n",
              "    </div>\n",
              "  </div>\n",
              "  "
            ]
          },
          "metadata": {},
          "execution_count": 25
        }
      ]
    },
    {
      "cell_type": "markdown",
      "source": [
        "### Converting Non-Numeric values into Numerics"
      ],
      "metadata": {
        "id": "nK4h7akHZSop"
      }
    },
    {
      "cell_type": "code",
      "source": [
        "# These objects have to be converted to Y=1; N=0 to be used in machine learning models\n",
        "df['Loan_Status']"
      ],
      "metadata": {
        "id": "1Qr1varuJigH",
        "colab": {
          "base_uri": "https://localhost:8080/"
        },
        "outputId": "bc2c3f83-7d7f-4239-c42e-c43b506a0092"
      },
      "execution_count": 26,
      "outputs": [
        {
          "output_type": "execute_result",
          "data": {
            "text/plain": [
              "1      N\n",
              "2      Y\n",
              "3      Y\n",
              "4      Y\n",
              "5      Y\n",
              "      ..\n",
              "609    Y\n",
              "610    Y\n",
              "611    Y\n",
              "612    Y\n",
              "613    N\n",
              "Name: Loan_Status, Length: 529, dtype: object"
            ]
          },
          "metadata": {},
          "execution_count": 26
        }
      ]
    },
    {
      "cell_type": "code",
      "source": [
        "df['Loan_Status'].unique()"
      ],
      "metadata": {
        "colab": {
          "base_uri": "https://localhost:8080/"
        },
        "id": "qy0XoLFHM_Ik",
        "outputId": "9e72127d-986a-430a-ce26-e6f930af7d86"
      },
      "execution_count": 27,
      "outputs": [
        {
          "output_type": "execute_result",
          "data": {
            "text/plain": [
              "array(['N', 'Y'], dtype=object)"
            ]
          },
          "metadata": {},
          "execution_count": 27
        }
      ]
    },
    {
      "cell_type": "code",
      "source": [
        "df['Loan_Status'].value_counts()"
      ],
      "metadata": {
        "colab": {
          "base_uri": "https://localhost:8080/"
        },
        "id": "NhlaDV2GN4od",
        "outputId": "61bae183-83b9-4bba-db28-bb79500068a2"
      },
      "execution_count": 28,
      "outputs": [
        {
          "output_type": "execute_result",
          "data": {
            "text/plain": [
              "Y    366\n",
              "N    163\n",
              "Name: Loan_Status, dtype: int64"
            ]
          },
          "metadata": {},
          "execution_count": 28
        }
      ]
    },
    {
      "cell_type": "code",
      "source": [
        "def convo(arg):\n",
        "  \"\"\"\n",
        "Definition: This function returns '1' if the character received is 'Y'\n",
        "and '0' if the character received is 'N'\n",
        "  \"\"\"\n",
        "  if arg=='Y':\n",
        "    return 1\n",
        "  elif arg=='N':\n",
        "    return 0\n",
        "  # Covers an unexpected case\n",
        "  else:\n",
        "    return"
      ],
      "metadata": {
        "id": "SYWYkTBUJ_iX"
      },
      "execution_count": 29,
      "outputs": []
    },
    {
      "cell_type": "code",
      "source": [
        "df['Loan_Status'] = df['Loan_Status'].apply(convo)"
      ],
      "metadata": {
        "id": "G-ersOfyMUZ_"
      },
      "execution_count": 30,
      "outputs": []
    },
    {
      "cell_type": "code",
      "source": [
        "df['Loan_Status'].value_counts()"
      ],
      "metadata": {
        "id": "GvPbsM0pMzJs",
        "colab": {
          "base_uri": "https://localhost:8080/"
        },
        "outputId": "ac0cf128-2b96-47e1-b588-0ceb2a11ebef"
      },
      "execution_count": 31,
      "outputs": [
        {
          "output_type": "execute_result",
          "data": {
            "text/plain": [
              "1    366\n",
              "0    163\n",
              "Name: Loan_Status, dtype: int64"
            ]
          },
          "metadata": {},
          "execution_count": 31
        }
      ]
    },
    {
      "cell_type": "code",
      "source": [
        "df.info()"
      ],
      "metadata": {
        "id": "FJqgU1SlK-Xl",
        "colab": {
          "base_uri": "https://localhost:8080/"
        },
        "outputId": "58db75fa-abaf-4f3a-8853-d269a4b4ee81"
      },
      "execution_count": 32,
      "outputs": [
        {
          "output_type": "stream",
          "name": "stdout",
          "text": [
            "<class 'pandas.core.frame.DataFrame'>\n",
            "Int64Index: 529 entries, 1 to 613\n",
            "Data columns (total 9 columns):\n",
            " #   Column            Non-Null Count  Dtype  \n",
            "---  ------            --------------  -----  \n",
            " 0   Loan_ID           529 non-null    object \n",
            " 1   Gender            517 non-null    object \n",
            " 2   Total_Income      529 non-null    int64  \n",
            " 3   Dependents        517 non-null    object \n",
            " 4   Self_Employed     504 non-null    object \n",
            " 5   LoanAmount        529 non-null    float64\n",
            " 6   Loan_Amount_Term  529 non-null    float64\n",
            " 7   Credit_History    529 non-null    float64\n",
            " 8   Loan_Status       529 non-null    int64  \n",
            "dtypes: float64(3), int64(2), object(4)\n",
            "memory usage: 57.5+ KB\n"
          ]
        }
      ]
    },
    {
      "cell_type": "code",
      "source": [
        "df['Gender'].value_counts()"
      ],
      "metadata": {
        "id": "dX2OZcd_ViMk",
        "colab": {
          "base_uri": "https://localhost:8080/"
        },
        "outputId": "a5b75f89-9281-48d2-a205-17e652ba1ce2"
      },
      "execution_count": 33,
      "outputs": [
        {
          "output_type": "execute_result",
          "data": {
            "text/plain": [
              "Male      422\n",
              "Female     95\n",
              "Name: Gender, dtype: int64"
            ]
          },
          "metadata": {},
          "execution_count": 33
        }
      ]
    },
    {
      "cell_type": "code",
      "source": [
        "def convo1(arg):\n",
        "  \"\"\"\n",
        "Definition: This function returns '1' if the character received is 'Male'\n",
        "and '0' if the character received is 'Female'\n",
        "  \"\"\"\n",
        "  if arg=='Male':\n",
        "    return 1\n",
        "  elif arg=='Female':\n",
        "    return 0\n",
        "  # Covers an unexpected case\n",
        "  else:\n",
        "    return"
      ],
      "metadata": {
        "id": "DNBhNuaeVs7V"
      },
      "execution_count": 34,
      "outputs": []
    },
    {
      "cell_type": "code",
      "source": [
        "df['Gender'] = df['Gender'].apply(convo1)"
      ],
      "metadata": {
        "id": "IB0_l-59V_T8"
      },
      "execution_count": 35,
      "outputs": []
    },
    {
      "cell_type": "code",
      "source": [
        "df['Gender'].unique()"
      ],
      "metadata": {
        "id": "2jqErfCIWyDI",
        "colab": {
          "base_uri": "https://localhost:8080/"
        },
        "outputId": "24fb79dc-5da5-4582-a0bb-83265372d30a"
      },
      "execution_count": 36,
      "outputs": [
        {
          "output_type": "execute_result",
          "data": {
            "text/plain": [
              "array([ 1.,  0., nan])"
            ]
          },
          "metadata": {},
          "execution_count": 36
        }
      ]
    },
    {
      "cell_type": "code",
      "source": [
        "df['Gender'].value_counts()"
      ],
      "metadata": {
        "id": "IelQPRM_ZT-5",
        "colab": {
          "base_uri": "https://localhost:8080/"
        },
        "outputId": "9edd3519-d9ca-4027-a522-97938b6c1c75"
      },
      "execution_count": 37,
      "outputs": [
        {
          "output_type": "execute_result",
          "data": {
            "text/plain": [
              "1.0    422\n",
              "0.0     95\n",
              "Name: Gender, dtype: int64"
            ]
          },
          "metadata": {},
          "execution_count": 37
        }
      ]
    },
    {
      "cell_type": "markdown",
      "source": [
        "### Finding the Highest Coefficient of Determination"
      ],
      "metadata": {
        "id": "U5UCuHye74gE"
      }
    },
    {
      "cell_type": "code",
      "source": [
        "from sklearn.linear_model import LinearRegression\n",
        "model = LinearRegression()"
      ],
      "metadata": {
        "id": "NvjT0ghCP969"
      },
      "execution_count": 38,
      "outputs": []
    },
    {
      "cell_type": "code",
      "source": [
        "y = df['Loan_Status']"
      ],
      "metadata": {
        "id": "cJ8_hbXkXg14"
      },
      "execution_count": 39,
      "outputs": []
    },
    {
      "cell_type": "code",
      "source": [
        "  \"\"\"\n",
        "  Definition: This function finds the highest Coefficient of Determination among each\n",
        "  column of data. A Y-VALUE MUST BE STATED PRIOR TO CALLING RUNNING THIS FUNCTION.\n",
        "  \"\"\"\n",
        "  max_arr = [\"\",\"\"]\n",
        "  max = -1000\n",
        "  for x in df.columns:\n",
        "    for i in df.columns:\n",
        "      #print(x, \"  \", i)\n",
        "      try:\n",
        "        X = df[[x,i]]\n",
        "        model.fit(X,y)\n",
        "        r_squared = model.score(X,y)\n",
        "        if (r_squared > max) and (r_squared != 1.0):\n",
        "          max = r_squared\n",
        "          max_arr[0] = x\n",
        "          max_arr[1] = i\n",
        "      except:\n",
        "        continue\n",
        "print(max, \" is the highest R-value. The pair that produced this was \", max_arr)     "
      ],
      "metadata": {
        "colab": {
          "base_uri": "https://localhost:8080/"
        },
        "id": "NrBceXi3GzAx",
        "outputId": "6a7c8aff-e8cb-4189-db40-0f68317183a4"
      },
      "execution_count": 40,
      "outputs": [
        {
          "output_type": "stream",
          "name": "stdout",
          "text": [
            "0.3016187907655774  is the highest R-value. The pair that produced this was  ['Total_Income', 'Credit_History']\n"
          ]
        }
      ]
    },
    {
      "cell_type": "markdown",
      "source": [
        "## Data Visualizations"
      ],
      "metadata": {
        "id": "qXzjZ4Ud1OmX"
      }
    },
    {
      "cell_type": "code",
      "source": [
        "# Visulization of Coefficient of Correlation Among Columns\n",
        "plt.figure(figsize=(10,7))\n",
        "sns.heatmap(df.corr(), annot=True, cmap='inferno');"
      ],
      "metadata": {
        "id": "ExJGtS7s21kU",
        "colab": {
          "base_uri": "https://localhost:8080/",
          "height": 54
        },
        "outputId": "806e4d34-6ee6-40e1-956b-b48a3a4dcd2d"
      },
      "execution_count": null,
      "outputs": [
        {
          "output_type": "display_data",
          "data": {
            "text/plain": [
              "<Figure size 720x504 with 2 Axes>"
            ],
            "image/png": "[encoded data removed]"
          },
          "metadata": {
            "needs_background": "light"
          }
        }
      ]
    },
    {
      "cell_type": "code",
      "source": [
        "# The majority of our cases are approved loans\n",
        "sns.countplot(x='Loan_Status', data=df, palette='hls')\n",
        "plt.show()\n",
        "plt.savefig('count plot')"
      ],
      "metadata": {
        "id": "CchHb8in4WuQ",
        "colab": {
          "base_uri": "https://localhost:8080/",
          "height": 156
        },
        "outputId": "33cb28ba-c60e-4c5f-8ffb-732b2f8ad1f1"
      },
      "execution_count": null,
      "outputs": [
        {
          "output_type": "display_data",
          "data": {
            "text/plain": [
              "<Figure size 432x288 with 1 Axes>"
            ],
            "image/png": "[encoded data removed]"
          },
          "metadata": {
            "needs_background": "light"
          }
        },
        {
          "output_type": "display_data",
          "data": {
            "text/plain": [
              "<Figure size 432x288 with 0 Axes>"
            ]
          },
          "metadata": {}
        }
      ]
    },
    {
      "cell_type": "markdown",
      "source": [
        "## Training Test Splits and Creating Models"
      ],
      "metadata": {
        "id": "r2ansVeV1Ova"
      }
    },
    {
      "cell_type": "code",
      "source": [
        "from sklearn.model_selection import train_test_split \n",
        "from sklearn.linear_model import LogisticRegression\n",
        "from sklearn.metrics import classification_report"
      ],
      "metadata": {
        "id": "t_zscSEA1O3S"
      },
      "execution_count": 41,
      "outputs": []
    },
    {
      "cell_type": "markdown",
      "source": [
        "### First Data Split"
      ],
      "metadata": {
        "id": "GOJvq0bMJuME"
      }
    },
    {
      "cell_type": "code",
      "source": [
        "df"
      ],
      "metadata": {
        "id": "GOq6cnrtIKhU",
        "outputId": "441259c5-92cc-410e-a4f2-7ddc7514be7d",
        "colab": {
          "base_uri": "https://localhost:8080/",
          "height": 483
        }
      },
      "execution_count": 42,
      "outputs": [
        {
          "output_type": "execute_result",
          "data": {
            "text/plain": [
              "      Loan_ID  Gender  Total_Income Dependents Self_Employed  LoanAmount  \\\n",
              "1    LP001003     1.0          6091          1            No       128.0   \n",
              "2    LP001005     1.0          3000          0           Yes        66.0   \n",
              "3    LP001006     1.0          4941          0            No       120.0   \n",
              "4    LP001008     1.0          6000          0            No       141.0   \n",
              "5    LP001011     1.0          9613          2           Yes       267.0   \n",
              "..        ...     ...           ...        ...           ...         ...   \n",
              "609  LP002978     0.0           524          0            No        71.0   \n",
              "610  LP002979     1.0           525         3+            No        40.0   \n",
              "611  LP002983     1.0           526          1            No       253.0   \n",
              "612  LP002984     1.0           527          2            No       187.0   \n",
              "613  LP002990     0.0           528          0           Yes       133.0   \n",
              "\n",
              "     Loan_Amount_Term  Credit_History  Loan_Status  \n",
              "1               360.0             1.0            0  \n",
              "2               360.0             1.0            1  \n",
              "3               360.0             1.0            1  \n",
              "4               360.0             1.0            1  \n",
              "5               360.0             1.0            1  \n",
              "..                ...             ...          ...  \n",
              "609             360.0             1.0            1  \n",
              "610             180.0             1.0            1  \n",
              "611             360.0             1.0            1  \n",
              "612             360.0             1.0            1  \n",
              "613             360.0             0.0            0  \n",
              "\n",
              "[529 rows x 9 columns]"
            ],
            "text/html": [
              "\n",
              "  <div id=\"df-8efc5fac-815e-48aa-9983-be262b3b0ff8\">\n",
              "    <div class=\"colab-df-container\">\n",
              "      <div>\n",
              "<style scoped>\n",
              "    .dataframe tbody tr th:only-of-type {\n",
              "        vertical-align: middle;\n",
              "    }\n",
              "\n",
              "    .dataframe tbody tr th {\n",
              "        vertical-align: top;\n",
              "    }\n",
              "\n",
              "    .dataframe thead th {\n",
              "        text-align: right;\n",
              "    }\n",
              "</style>\n",
              "<table border=\"1\" class=\"dataframe\">\n",
              "  <thead>\n",
              "    <tr style=\"text-align: right;\">\n",
              "      <th></th>\n",
              "      <th>Loan_ID</th>\n",
              "      <th>Gender</th>\n",
              "      <th>Total_Income</th>\n",
              "      <th>Dependents</th>\n",
              "      <th>Self_Employed</th>\n",
              "      <th>LoanAmount</th>\n",
              "      <th>Loan_Amount_Term</th>\n",
              "      <th>Credit_History</th>\n",
              "      <th>Loan_Status</th>\n",
              "    </tr>\n",
              "  </thead>\n",
              "  <tbody>\n",
              "    <tr>\n",
              "      <th>1</th>\n",
              "      <td>LP001003</td>\n",
              "      <td>1.0</td>\n",
              "      <td>6091</td>\n",
              "      <td>1</td>\n",
              "      <td>No</td>\n",
              "      <td>128.0</td>\n",
              "      <td>360.0</td>\n",
              "      <td>1.0</td>\n",
              "      <td>0</td>\n",
              "    </tr>\n",
              "    <tr>\n",
              "      <th>2</th>\n",
              "      <td>LP001005</td>\n",
              "      <td>1.0</td>\n",
              "      <td>3000</td>\n",
              "      <td>0</td>\n",
              "      <td>Yes</td>\n",
              "      <td>66.0</td>\n",
              "      <td>360.0</td>\n",
              "      <td>1.0</td>\n",
              "      <td>1</td>\n",
              "    </tr>\n",
              "    <tr>\n",
              "      <th>3</th>\n",
              "      <td>LP001006</td>\n",
              "      <td>1.0</td>\n",
              "      <td>4941</td>\n",
              "      <td>0</td>\n",
              "      <td>No</td>\n",
              "      <td>120.0</td>\n",
              "      <td>360.0</td>\n",
              "      <td>1.0</td>\n",
              "      <td>1</td>\n",
              "    </tr>\n",
              "    <tr>\n",
              "      <th>4</th>\n",
              "      <td>LP001008</td>\n",
              "      <td>1.0</td>\n",
              "      <td>6000</td>\n",
              "      <td>0</td>\n",
              "      <td>No</td>\n",
              "      <td>141.0</td>\n",
              "      <td>360.0</td>\n",
              "      <td>1.0</td>\n",
              "      <td>1</td>\n",
              "    </tr>\n",
              "    <tr>\n",
              "      <th>5</th>\n",
              "      <td>LP001011</td>\n",
              "      <td>1.0</td>\n",
              "      <td>9613</td>\n",
              "      <td>2</td>\n",
              "      <td>Yes</td>\n",
              "      <td>267.0</td>\n",
              "      <td>360.0</td>\n",
              "      <td>1.0</td>\n",
              "      <td>1</td>\n",
              "    </tr>\n",
              "    <tr>\n",
              "      <th>...</th>\n",
              "      <td>...</td>\n",
              "      <td>...</td>\n",
              "      <td>...</td>\n",
              "      <td>...</td>\n",
              "      <td>...</td>\n",
              "      <td>...</td>\n",
              "      <td>...</td>\n",
              "      <td>...</td>\n",
              "      <td>...</td>\n",
              "    </tr>\n",
              "    <tr>\n",
              "      <th>609</th>\n",
              "      <td>LP002978</td>\n",
              "      <td>0.0</td>\n",
              "      <td>524</td>\n",
              "      <td>0</td>\n",
              "      <td>No</td>\n",
              "      <td>71.0</td>\n",
              "      <td>360.0</td>\n",
              "      <td>1.0</td>\n",
              "      <td>1</td>\n",
              "    </tr>\n",
              "    <tr>\n",
              "      <th>610</th>\n",
              "      <td>LP002979</td>\n",
              "      <td>1.0</td>\n",
              "      <td>525</td>\n",
              "      <td>3+</td>\n",
              "      <td>No</td>\n",
              "      <td>40.0</td>\n",
              "      <td>180.0</td>\n",
              "      <td>1.0</td>\n",
              "      <td>1</td>\n",
              "    </tr>\n",
              "    <tr>\n",
              "      <th>611</th>\n",
              "      <td>LP002983</td>\n",
              "      <td>1.0</td>\n",
              "      <td>526</td>\n",
              "      <td>1</td>\n",
              "      <td>No</td>\n",
              "      <td>253.0</td>\n",
              "      <td>360.0</td>\n",
              "      <td>1.0</td>\n",
              "      <td>1</td>\n",
              "    </tr>\n",
              "    <tr>\n",
              "      <th>612</th>\n",
              "      <td>LP002984</td>\n",
              "      <td>1.0</td>\n",
              "      <td>527</td>\n",
              "      <td>2</td>\n",
              "      <td>No</td>\n",
              "      <td>187.0</td>\n",
              "      <td>360.0</td>\n",
              "      <td>1.0</td>\n",
              "      <td>1</td>\n",
              "    </tr>\n",
              "    <tr>\n",
              "      <th>613</th>\n",
              "      <td>LP002990</td>\n",
              "      <td>0.0</td>\n",
              "      <td>528</td>\n",
              "      <td>0</td>\n",
              "      <td>Yes</td>\n",
              "      <td>133.0</td>\n",
              "      <td>360.0</td>\n",
              "      <td>0.0</td>\n",
              "      <td>0</td>\n",
              "    </tr>\n",
              "  </tbody>\n",
              "</table>\n",
              "<p>529 rows × 9 columns</p>\n",
              "</div>\n",
              "      <button class=\"colab-df-convert\" onclick=\"convertToInteractive('df-8efc5fac-815e-48aa-9983-be262b3b0ff8')\"\n",
              "              title=\"Convert this dataframe to an interactive table.\"\n",
              "              style=\"display:none;\">\n",
              "        \n",
              "  <svg xmlns=\"http://www.w3.org/2000/svg\" height=\"24px\"viewBox=\"0 0 24 24\"\n",
              "       width=\"24px\">\n",
              "    <path d=\"M0 0h24v24H0V0z\" fill=\"none\"/>\n",
              "    <path d=\"M18.56 5.44l.94 2.06.94-2.06 2.06-.94-2.06-.94-.94-2.06-.94 2.06-2.06.94zm-11 1L8.5 8.5l.94-2.06 2.06-.94-2.06-.94L8.5 2.5l-.94 2.06-2.06.94zm10 10l.94 2.06.94-2.06 2.06-.94-2.06-.94-.94-2.06-.94 2.06-2.06.94z\"/><path d=\"M17.41 7.96l-1.37-1.37c-.4-.4-.92-.59-1.43-.59-.52 0-1.04.2-1.43.59L10.3 9.45l-7.72 7.72c-.78.78-.78 2.05 0 2.83L4 21.41c.39.39.9.59 1.41.59.51 0 1.02-.2 1.41-.59l7.78-7.78 2.81-2.81c.8-.78.8-2.07 0-2.86zM5.41 20L4 18.59l7.72-7.72 1.47 1.35L5.41 20z\"/>\n",
              "  </svg>\n",
              "      </button>\n",
              "      \n",
              "  <style>\n",
              "    .colab-df-container {\n",
              "      display:flex;\n",
              "      flex-wrap:wrap;\n",
              "      gap: 12px;\n",
              "    }\n",
              "\n",
              "    .colab-df-convert {\n",
              "      background-color: #E8F0FE;\n",
              "      border: none;\n",
              "      border-radius: 50%;\n",
              "      cursor: pointer;\n",
              "      display: none;\n",
              "      fill: #1967D2;\n",
              "      height: 32px;\n",
              "      padding: 0 0 0 0;\n",
              "      width: 32px;\n",
              "    }\n",
              "\n",
              "    .colab-df-convert:hover {\n",
              "      background-color: #E2EBFA;\n",
              "      box-shadow: 0px 1px 2px rgba(60, 64, 67, 0.3), 0px 1px 3px 1px rgba(60, 64, 67, 0.15);\n",
              "      fill: #174EA6;\n",
              "    }\n",
              "\n",
              "    [theme=dark] .colab-df-convert {\n",
              "      background-color: #3B4455;\n",
              "      fill: #D2E3FC;\n",
              "    }\n",
              "\n",
              "    [theme=dark] .colab-df-convert:hover {\n",
              "      background-color: #434B5C;\n",
              "      box-shadow: 0px 1px 3px 1px rgba(0, 0, 0, 0.15);\n",
              "      filter: drop-shadow(0px 1px 2px rgba(0, 0, 0, 0.3));\n",
              "      fill: #FFFFFF;\n",
              "    }\n",
              "  </style>\n",
              "\n",
              "      <script>\n",
              "        const buttonEl =\n",
              "          document.querySelector('#df-8efc5fac-815e-48aa-9983-be262b3b0ff8 button.colab-df-convert');\n",
              "        buttonEl.style.display =\n",
              "          google.colab.kernel.accessAllowed ? 'block' : 'none';\n",
              "\n",
              "        async function convertToInteractive(key) {\n",
              "          const element = document.querySelector('#df-8efc5fac-815e-48aa-9983-be262b3b0ff8');\n",
              "          const dataTable =\n",
              "            await google.colab.kernel.invokeFunction('convertToInteractive',\n",
              "                                                     [key], {});\n",
              "          if (!dataTable) return;\n",
              "\n",
              "          const docLinkHtml = 'Like what you see? Visit the ' +\n",
              "            '<a target=\"_blank\" href=https://colab.research.google.com/notebooks/data_table.ipynb>data table notebook</a>'\n",
              "            + ' to learn more about interactive tables.';\n",
              "          element.innerHTML = '';\n",
              "          dataTable['output_type'] = 'display_data';\n",
              "          await google.colab.output.renderOutput(dataTable, element);\n",
              "          const docLink = document.createElement('div');\n",
              "          docLink.innerHTML = docLinkHtml;\n",
              "          element.appendChild(docLink);\n",
              "        }\n",
              "      </script>\n",
              "    </div>\n",
              "  </div>\n",
              "  "
            ]
          },
          "metadata": {},
          "execution_count": 42
        }
      ]
    },
    {
      "cell_type": "code",
      "source": [
        "#Capatilized letters indicates matrix\n",
        "X = df[['LoanAmount', 'Credit_History']]\n",
        "y = df[\"Loan_Status\"]"
      ],
      "metadata": {
        "id": "JM0m4aGy3Qpv"
      },
      "execution_count": 43,
      "outputs": []
    },
    {
      "cell_type": "code",
      "source": [
        "X_train, X_test, y_train, y_test = train_test_split(X, y, test_size = 0.33, random_state = 14)"
      ],
      "metadata": {
        "id": "kaJELQiu3WYg"
      },
      "execution_count": 44,
      "outputs": []
    },
    {
      "cell_type": "code",
      "source": [
        "logmodel = LogisticRegression()\n",
        "logmodel.fit(X_train, y_train)\n",
        "predictions = logmodel.predict(X_test)\n",
        "print(classification_report(y_test, predictions))"
      ],
      "metadata": {
        "id": "xck6nslT98OU",
        "colab": {
          "base_uri": "https://localhost:8080/"
        },
        "outputId": "83463fc8-aa5b-4bf7-cea4-844624419740"
      },
      "execution_count": 45,
      "outputs": [
        {
          "output_type": "stream",
          "name": "stdout",
          "text": [
            "              precision    recall  f1-score   support\n",
            "\n",
            "           0       0.97      0.58      0.73        53\n",
            "           1       0.85      0.99      0.91       122\n",
            "\n",
            "    accuracy                           0.87       175\n",
            "   macro avg       0.91      0.79      0.82       175\n",
            "weighted avg       0.88      0.87      0.86       175\n",
            "\n"
          ]
        }
      ]
    },
    {
      "cell_type": "code",
      "source": [
        "print(logmodel.score(X_test, y_test))\n",
        "pp = logmodel.predict(X_test)\n",
        "print('Approved: ', sum(pp!=0))\n",
        "print('Not Approved: ', sum(pp==0))"
      ],
      "metadata": {
        "id": "PCTzqSq8-MjU",
        "colab": {
          "base_uri": "https://localhost:8080/"
        },
        "outputId": "f85b5f21-a22e-4a66-9e86-7624c109e273"
      },
      "execution_count": 46,
      "outputs": [
        {
          "output_type": "stream",
          "name": "stdout",
          "text": [
            "0.8685714285714285\n",
            "Approved:  143\n",
            "Not Approved:  32\n"
          ]
        }
      ]
    },
    {
      "cell_type": "markdown",
      "source": [
        "### Second Data Split"
      ],
      "metadata": {
        "id": "ktzl38c9JyMZ"
      }
    },
    {
      "cell_type": "code",
      "source": [
        "X = df[['Total_Income', 'Credit_History']]\n",
        "y = df[\"Loan_Status\"]"
      ],
      "metadata": {
        "id": "i_8TC_N9J2sv"
      },
      "execution_count": 48,
      "outputs": []
    },
    {
      "cell_type": "code",
      "source": [
        "X_train, X_test, y_train, y_test = train_test_split(X, y, test_size = 0.33, random_state = 0)"
      ],
      "metadata": {
        "id": "UpQJ_mTYJ56T"
      },
      "execution_count": 49,
      "outputs": []
    },
    {
      "cell_type": "code",
      "source": [
        "logmodel = LogisticRegression()\n",
        "logmodel.fit(X_train, y_train)\n",
        "predictions = logmodel.predict(X_test)\n",
        "print(classification_report(y_test, predictions))"
      ],
      "metadata": {
        "id": "8ecbWdVR99As",
        "colab": {
          "base_uri": "https://localhost:8080/"
        },
        "outputId": "57f29504-3661-4a32-9f5d-6820f94c9f5a"
      },
      "execution_count": 50,
      "outputs": [
        {
          "output_type": "stream",
          "name": "stdout",
          "text": [
            "              precision    recall  f1-score   support\n",
            "\n",
            "           0       0.96      0.45      0.61        60\n",
            "           1       0.78      0.99      0.87       115\n",
            "\n",
            "    accuracy                           0.81       175\n",
            "   macro avg       0.87      0.72      0.74       175\n",
            "weighted avg       0.84      0.81      0.78       175\n",
            "\n"
          ]
        }
      ]
    },
    {
      "cell_type": "code",
      "source": [
        "print(logmodel.score(X_test, y_test))\n",
        "pp = logmodel.predict(X_test)\n",
        "print('Approved: ', sum(pp!=0))\n",
        "print('Not Approved: ', sum(pp==0))"
      ],
      "metadata": {
        "id": "Y1e2NPBK-Lec",
        "colab": {
          "base_uri": "https://localhost:8080/"
        },
        "outputId": "7ff171eb-fda1-4ff0-876a-bb2dc4ad6743"
      },
      "execution_count": 51,
      "outputs": [
        {
          "output_type": "stream",
          "name": "stdout",
          "text": [
            "0.8057142857142857\n",
            "Approved:  147\n",
            "Not Approved:  28\n"
          ]
        }
      ]
    },
    {
      "cell_type": "markdown",
      "source": [
        "### Third Data Split"
      ],
      "metadata": {
        "id": "CurD8odeRW5o"
      }
    },
    {
      "cell_type": "code",
      "source": [
        "X = df[['LoanAmount', 'Loan_Amount_Term']]\n",
        "y = df[\"Loan_Status\"]"
      ],
      "metadata": {
        "id": "gSei2KQWRZ8N"
      },
      "execution_count": 52,
      "outputs": []
    },
    {
      "cell_type": "code",
      "source": [
        "X_train, X_test, y_train, y_test = train_test_split(X, y, test_size = 0.33, random_state = 20)"
      ],
      "metadata": {
        "id": "0xpFb3K6WKf5"
      },
      "execution_count": 53,
      "outputs": []
    },
    {
      "cell_type": "code",
      "source": [
        "logmodel = LogisticRegression()\n",
        "logmodel.fit(X_train, y_train)\n",
        "predictions = logmodel.predict(X_test)\n",
        "print(classification_report(y_test, predictions))"
      ],
      "metadata": {
        "id": "QOKuo63D9_PI",
        "colab": {
          "base_uri": "https://localhost:8080/"
        },
        "outputId": "2dd5aa7d-45a0-4257-9bfb-80567f5893be"
      },
      "execution_count": 54,
      "outputs": [
        {
          "output_type": "stream",
          "name": "stdout",
          "text": [
            "              precision    recall  f1-score   support\n",
            "\n",
            "           0       0.00      0.00      0.00        48\n",
            "           1       0.72      0.99      0.84       127\n",
            "\n",
            "    accuracy                           0.72       175\n",
            "   macro avg       0.36      0.50      0.42       175\n",
            "weighted avg       0.53      0.72      0.61       175\n",
            "\n"
          ]
        }
      ]
    },
    {
      "cell_type": "code",
      "source": [
        "print(logmodel.score(X_test, y_test))\n",
        "pp = logmodel.predict(X_test)\n",
        "print('Approved: ', sum(pp!=0))\n",
        "print('Not Approved: ', sum(pp==0))"
      ],
      "metadata": {
        "id": "EMlfPTkO-KiI",
        "colab": {
          "base_uri": "https://localhost:8080/"
        },
        "outputId": "82da3c32-8fed-4b41-c4c2-1ce7425203b3"
      },
      "execution_count": 55,
      "outputs": [
        {
          "output_type": "stream",
          "name": "stdout",
          "text": [
            "0.72\n",
            "Approved:  174\n",
            "Not Approved:  1\n"
          ]
        }
      ]
    },
    {
      "cell_type": "markdown",
      "source": [
        "### Visulaing Our Model's ROC"
      ],
      "metadata": {
        "id": "ckHbRybZ8zBA"
      }
    },
    {
      "cell_type": "code",
      "source": [
        "# Please be sure to ONLY RUN THE TEST SPLIT CELL IN WHICH YOU WISH TO SEE\n",
        "# Rates how well a model can distinguish between classes\n",
        "# The higher the ROC curve is in relation to the classifier regression, the better the model\n",
        "# Current graph is for the FIRST TEST SPLIT\n",
        "from sklearn.metrics import roc_auc_score\n",
        "from sklearn.metrics import roc_curve\n",
        "logit_roc_auc = roc_auc_score(y_test, predictions)\n",
        "fpr, tpr, thresholds = roc_curve(y_test, logmodel.predict_proba(X_test)[:,1])\n",
        "plt.figure()\n",
        "plt.plot(fpr, tpr, label='Logistic Regression (area = %0.2f)' % logit_roc_auc)\n",
        "plt.plot([0, 1], [0, 1],'r--')\n",
        "plt.xlim([0.0, 1.0])\n",
        "plt.ylim([0.0, 1.05])\n",
        "plt.xlabel('False Positive Rate')\n",
        "plt.ylabel('True Positive Rate')\n",
        "plt.title('Receiver Operating Characteristic')\n",
        "plt.legend(loc=\"lower right\")\n",
        "plt.show()"
      ],
      "metadata": {
        "id": "PZZDcgBn82_8",
        "colab": {
          "base_uri": "https://localhost:8080/",
          "height": 295
        },
        "outputId": "8951331e-b738-4d80-f909-532de0b01b17"
      },
      "execution_count": 47,
      "outputs": [
        {
          "output_type": "display_data",
          "data": {
            "text/plain": [
              "<Figure size 432x288 with 1 Axes>"
            ],
            "image/png": "[encoded data removed]"
          },
          "metadata": {
            "needs_background": "light"
          }
        }
      ]
    },
    {
      "cell_type": "markdown",
      "source": [
        "## Conclusion"
      ],
      "metadata": {
        "id": "BvVDIAAY1PBm"
      }
    },
    {
      "cell_type": "markdown",
      "source": [
        "We observed that our first data split, with explanatory variables Loan Amount and Credit History produced the most accurate model. It appears that finding the pair of variables with the highest coefficient of correlation in relation to a given y value yields an accurate model. However, we can not conclude that this process produces the most accurate model. In order to test the hypothesis: the pair of variables with the highest coefficient of determination in relation to a given y value yields the most accurate binary logistic regression model, we would need to set up an experement which creates a regression model for every possible pair of variables. Furthermore, a models accuracy for training data can be significantly different from its accuracy with real world data. More research is needed."
      ],
      "metadata": {
        "id": "lq6O-Tyq20Rf"
      }
    },
    {
      "cell_type": "markdown",
      "source": [
        "## Future Improvments"
      ],
      "metadata": {
        "id": "esdlYkeC50OP"
      }
    },
    {
      "cell_type": "markdown",
      "source": [
        "People from different salary ranges, have different probabilities of having a credit history, and financial advisors. This leads to better outcomes for them. Because of this, I don't believe that there is a viable reason for keeping them in the same block as the saleries closer to the mean. A future analysis of 'Credit_History' and 'Total_Income' should create blocks based on salary ranges. A unique logistic regression model should be created for each block."
      ],
      "metadata": {
        "id": "TJ1uwgg86NwK"
      }
    }
  ]
}
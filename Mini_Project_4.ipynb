{
  "nbformat": 4,
  "nbformat_minor": 0,
  "metadata": {
    "colab": {
      "name": "Mini Project 4.ipynb",
      "provenance": [],
      "collapsed_sections": [],
      "authorship_tag": "ABX9TyO1CAOjXkTvsFJ+xWnlq8T9",
      "include_colab_link": true
    },
    "kernelspec": {
      "name": "python3",
      "display_name": "Python 3"
    },
    "language_info": {
      "name": "python"
    }
  },
  "cells": [
    {
      "cell_type": "markdown",
      "metadata": {
        "id": "view-in-github",
        "colab_type": "text"
      },
      "source": [
        "<a href=\"https://colab.research.google.com/github/Clever-Lazinezz/Portfolio/blob/main/Mini_Project_4.ipynb\" target=\"_parent\"><img src=\"https://colab.research.google.com/assets/colab-badge.svg\" alt=\"Open In Colab\"/></a>"
      ]
    },
    {
      "cell_type": "markdown",
      "source": [
        "## Objective"
      ],
      "metadata": {
        "id": "y24VlXanG8gn"
      }
    },
    {
      "cell_type": "markdown",
      "source": [
        "This data anlysis will create a model to predict if a patient will return to the hospital within thirty days of their discharge. This information could be usful for measuring the effectiveness of treatments across different races, ethnicities, and genders. Further analysises should isolate data into groups based on gender and race to provide a more accurate prediction for the particular case."
      ],
      "metadata": {
        "id": "rLg4gCqbG_-o"
      }
    },
    {
      "cell_type": "markdown",
      "source": [
        "## Import Libraries"
      ],
      "metadata": {
        "id": "LhtDVvB1re9l"
      }
    },
    {
      "cell_type": "code",
      "source": [
        "!pip install pydot\n",
        "!pip install pydot-ng\n",
        "!pip install graphviz\n",
        "!pip install --upgrade scikit-Learn==0.20.3"
      ],
      "metadata": {
        "id": "AiaXNsevrM1M",
        "colab": {
          "base_uri": "https://localhost:8080/"
        },
        "outputId": "df63915a-fd55-4890-eef5-3ec636a9c0d8"
      },
      "execution_count": null,
      "outputs": [
        {
          "output_type": "stream",
          "name": "stdout",
          "text": [
            "Looking in indexes: https://pypi.org/simple, https://us-python.pkg.dev/colab-wheels/public/simple/\n",
            "Requirement already satisfied: pydot in /usr/local/lib/python3.7/dist-packages (1.3.0)\n",
            "Requirement already satisfied: pyparsing>=2.1.4 in /usr/local/lib/python3.7/dist-packages (from pydot) (3.0.9)\n",
            "Looking in indexes: https://pypi.org/simple, https://us-python.pkg.dev/colab-wheels/public/simple/\n",
            "Requirement already satisfied: pydot-ng in /usr/local/lib/python3.7/dist-packages (2.0.0)\n",
            "Requirement already satisfied: pyparsing>=2.0.1 in /usr/local/lib/python3.7/dist-packages (from pydot-ng) (3.0.9)\n",
            "Looking in indexes: https://pypi.org/simple, https://us-python.pkg.dev/colab-wheels/public/simple/\n",
            "Requirement already satisfied: graphviz in /usr/local/lib/python3.7/dist-packages (0.10.1)\n",
            "Looking in indexes: https://pypi.org/simple, https://us-python.pkg.dev/colab-wheels/public/simple/\n",
            "Requirement already satisfied: scikit-Learn==0.20.3 in /usr/local/lib/python3.7/dist-packages (0.20.3)\n",
            "Requirement already satisfied: scipy>=0.13.3 in /usr/local/lib/python3.7/dist-packages (from scikit-Learn==0.20.3) (1.7.3)\n",
            "Requirement already satisfied: numpy>=1.8.2 in /usr/local/lib/python3.7/dist-packages (from scikit-Learn==0.20.3) (1.21.6)\n"
          ]
        }
      ]
    },
    {
      "cell_type": "code",
      "source": [
        "import pandas as pd\n",
        "import numpy as np\n",
        "import seaborn as sns\n",
        "import matplotlib.pyplot as plt"
      ],
      "metadata": {
        "id": "9FQVbRjBtto4"
      },
      "execution_count": null,
      "outputs": []
    },
    {
      "cell_type": "markdown",
      "source": [
        "## Read Files"
      ],
      "metadata": {
        "id": "GBAh-XaIrWk7"
      }
    },
    {
      "cell_type": "code",
      "source": [
        "df = pd.read_csv('https://raw.githubusercontent.com/Clever-Lazinezz/ML-Data2/main/diabetic_data.csv')"
      ],
      "metadata": {
        "id": "Nf5QD6KouZoI"
      },
      "execution_count": null,
      "outputs": []
    },
    {
      "cell_type": "markdown",
      "source": [
        "## EDA"
      ],
      "metadata": {
        "id": "NGHVD0lfrVpa"
      }
    },
    {
      "cell_type": "code",
      "source": [
        "data = df"
      ],
      "metadata": {
        "id": "FYgKs7KdnaUy"
      },
      "execution_count": null,
      "outputs": []
    },
    {
      "cell_type": "code",
      "source": [
        "data.head()"
      ],
      "metadata": {
        "id": "AyIuWIi2tHKa"
      },
      "execution_count": null,
      "outputs": []
    },
    {
      "cell_type": "code",
      "source": [
        "data.isnull().count()"
      ],
      "metadata": {
        "id": "kwMmQrrznhcs"
      },
      "execution_count": null,
      "outputs": []
    },
    {
      "cell_type": "markdown",
      "source": [
        "### Cleaning up Data"
      ],
      "metadata": {
        "id": "JELtE6OakTuk"
      }
    },
    {
      "cell_type": "code",
      "source": [
        "# Chaning age ranges to the median number in the range\n",
        "# This is done to create integer(or categorical) values that can be used in machine learning models\n",
        "replaceDict = {'[0-10)' : 5,\n",
        "'[10-20)' : 15,\n",
        "'[20-30)' : 25, \n",
        "'[30-40)' : 35, \n",
        "'[40-50)' : 45, \n",
        "'[50-60)' : 55,\n",
        "'[60-70)' : 65, \n",
        "'[70-80)' : 75,\n",
        "'[80-90)' : 85,\n",
        "'[90-100)' : 95}\n",
        "\n",
        "data['age'] = data['age'].apply(lambda x : replaceDict[x])"
      ],
      "metadata": {
        "id": "ESpOXOo1kPbg"
      },
      "execution_count": null,
      "outputs": []
    },
    {
      "cell_type": "code",
      "source": [
        "data['age'].head()"
      ],
      "metadata": {
        "id": "cMMNpJYTmoPD"
      },
      "execution_count": null,
      "outputs": []
    },
    {
      "cell_type": "code",
      "source": [
        "data.columns"
      ],
      "metadata": {
        "id": "y4LG_6ZUpeSP"
      },
      "execution_count": null,
      "outputs": []
    },
    {
      "cell_type": "code",
      "source": [
        "len(df)"
      ],
      "metadata": {
        "colab": {
          "base_uri": "https://localhost:8080/"
        },
        "id": "nXD9smYOp8_e",
        "outputId": "ec4105cc-ec2b-4ac7-e275-fce779aa7bcf"
      },
      "execution_count": null,
      "outputs": [
        {
          "output_type": "execute_result",
          "data": {
            "text/plain": [
              "101766"
            ]
          },
          "metadata": {},
          "execution_count": 24
        }
      ]
    },
    {
      "cell_type": "markdown",
      "source": [
        "#### Checking for duplicate patients"
      ],
      "metadata": {
        "id": "r7gvfW4Hqzbv"
      }
    },
    {
      "cell_type": "code",
      "source": [
        "len(data['encounter_id'].unique())"
      ],
      "metadata": {
        "colab": {
          "base_uri": "https://localhost:8080/"
        },
        "id": "3ROV3TwXpZ5W",
        "outputId": "5a8760d2-9d0b-4378-f639-7fe153b8dc4e"
      },
      "execution_count": null,
      "outputs": [
        {
          "output_type": "execute_result",
          "data": {
            "text/plain": [
              "101766"
            ]
          },
          "metadata": {},
          "execution_count": 27
        }
      ]
    },
    {
      "cell_type": "code",
      "source": [
        "len(data['admission_source_id'].unique())"
      ],
      "metadata": {
        "id": "waRrhBYaqdI_"
      },
      "execution_count": null,
      "outputs": []
    },
    {
      "cell_type": "code",
      "source": [
        "# Looks like there are duplicates\n",
        "len(data['patient_nbr'].unique())"
      ],
      "metadata": {
        "colab": {
          "base_uri": "https://localhost:8080/"
        },
        "id": "3nNCcEfGqdTF",
        "outputId": "b666f633-0542-4d1c-c334-ab50473d4bb7"
      },
      "execution_count": null,
      "outputs": [
        {
          "output_type": "execute_result",
          "data": {
            "text/plain": [
              "71518"
            ]
          },
          "metadata": {},
          "execution_count": 28
        }
      ]
    },
    {
      "cell_type": "code",
      "source": [
        "# dropna removes the rows that contain null values\n",
        "data.dropna(inplace = True)\n",
        "data.drop_duplicates(['patient_nbr'], keep = 'first', inplace = True)"
      ],
      "metadata": {
        "id": "tjV3DMBznWOj"
      },
      "execution_count": null,
      "outputs": []
    },
    {
      "cell_type": "code",
      "source": [
        "len(data)"
      ],
      "metadata": {
        "id": "JXRH-lvsv2ra"
      },
      "execution_count": null,
      "outputs": []
    },
    {
      "cell_type": "markdown",
      "source": [
        "#### Dropping Unwanted Data"
      ],
      "metadata": {
        "id": "ps4UVO-kv2mb"
      }
    },
    {
      "cell_type": "code",
      "source": [
        "from collections import Counter"
      ],
      "metadata": {
        "id": "vdAE4EqbzKIX"
      },
      "execution_count": null,
      "outputs": []
    },
    {
      "cell_type": "code",
      "source": [
        "data.columns"
      ],
      "metadata": {
        "id": "oYzvAzKqzx0e"
      },
      "execution_count": null,
      "outputs": []
    },
    {
      "cell_type": "code",
      "source": [
        "data.head()"
      ],
      "metadata": {
        "id": "BcIznl0K8ZfM"
      },
      "execution_count": null,
      "outputs": []
    },
    {
      "cell_type": "code",
      "source": [
        "data.info()"
      ],
      "metadata": {
        "id": "ZcmuuSYOA7T1"
      },
      "execution_count": null,
      "outputs": []
    },
    {
      "cell_type": "code",
      "source": [
        "# Dropping this column due to the insane amount of missing data represented as '?'\n",
        "data['weight'].value_counts(dropna=False)"
      ],
      "metadata": {
        "id": "id5LI8C-1mw0"
      },
      "execution_count": null,
      "outputs": []
    },
    {
      "cell_type": "code",
      "source": [
        "data['encounter_id'].value_counts(dropna=False)"
      ],
      "metadata": {
        "id": "yTVa2EoC76lC"
      },
      "execution_count": null,
      "outputs": []
    },
    {
      "cell_type": "code",
      "source": [
        "data.drop(['weight', 'medical_specialty', 'payer_code', 'encounter_id', 'patient_nbr', 'diag_1', 'diag_2', 'diag_3', 'race'], axis=1, inplace=True)"
      ],
      "metadata": {
        "id": "JL-n1Ts63RFg"
      },
      "execution_count": null,
      "outputs": []
    },
    {
      "cell_type": "code",
      "source": [
        "data.columns"
      ],
      "metadata": {
        "id": "BMDfi7ee30NX"
      },
      "execution_count": null,
      "outputs": []
    },
    {
      "cell_type": "markdown",
      "source": [
        "#### Replacing remaining objects with integer values"
      ],
      "metadata": {
        "id": "4CwQI1DcGT2-"
      }
    },
    {
      "cell_type": "code",
      "source": [
        "# DONT REINVENT THE WHEEL - USE YOUR RESOURCES\n",
        "# Solution by Sachin Ranveer\n",
        "# Functions could be written in a seperate cell, and then called by name for the apply method\n",
        "data['discharge_disposition_id'] = data['discharge_disposition_id'].apply(lambda x : 1 if int(x) in [6, 8, 9, 13] \n",
        "                                                                           else ( 2 if int(x) in [3, 4, 5, 14, 22, 23, 24]\n",
        "                                                                           else ( 10 if int(x) in [12, 15, 16, 17]\n",
        "                                                                           else ( 11 if int(x) in [19, 20, 21]\n",
        "                                                                           else ( 18 if int(x) in [25, 26] \n",
        "                                                                           else int(x) )))))\n",
        "\n",
        "data = data[~data.discharge_disposition_id.isin([11,13,14,19,20,21])]\n",
        "\n",
        "data['admission_type_id'] = data['admission_type_id'].apply(lambda x : 1 if int(x) in [2, 7]\n",
        "                                                            else ( 5 if int(x) in [6, 8]\n",
        "                                                            else int(x) ))\n",
        "\n",
        "data['admission_source_id'] = data['admission_source_id'].apply(lambda x : 1 if int(x) in [2, 3]\n",
        "                                                            else ( 4 if int(x) in [5, 6, 10, 22, 25]\n",
        "                                                            else ( 9 if int(x) in [15, 17, 20, 21]\n",
        "                                                            else ( 11 if int(x) in [13, 14]\n",
        "                                                            else int(x) ))))\n",
        "\n",
        "for col in [\"metformin\", \"repaglinide\", \"nateglinide\", \"chlorpropamide\", \"glimepiride\", \"acetohexamide\", \"glipizide\", \"glyburide\", \"tolbutamide\", \"pioglitazone\", \"rosiglitazone\", \"acarbose\", \"miglitol\", \"troglitazone\", \"tolazamide\", \"examide\", \"citoglipton\", \"insulin\", \"glyburide-metformin\", \"glipizide-metformin\", \"glimepiride-pioglitazone\", \"metformin-rosiglitazone\", \"metformin-pioglitazone\"]:\n",
        "    data[col] = data[col].apply(lambda x : 10 if x == 'Up' \n",
        "                                              else ( -10 if x == 'Down'                                                          \n",
        "                                              else ( 0 if x == 'Steady'\n",
        "                                              else  -20)))\n",
        "\n",
        "\n",
        "data['change'] = data['change'].apply(lambda x : 1 if x == 'Ch'\n",
        "                                                 else -1)\n",
        "\n",
        "\n",
        "data['diabetesMed'] = data['diabetesMed'].apply(lambda x : -1 if x == 'No'\n",
        "                                                else 1)\n",
        "\n",
        "\n",
        "data['max_glu_serum'] = data['max_glu_serum'].apply(lambda x : 200 if x == '>200' \n",
        "                                                            else ( 300 if x == '>300'                                                          \n",
        "                                                            else ( 100 if x == 'Norm'\n",
        "                                                            else  0)))\n",
        "\n",
        "data['A1Cresult'] = data['A1Cresult'].apply(lambda x : 7 if x == '>7' \n",
        "                                                         else (8 if  x == '>8'                                                        \n",
        "                                                         else ( 5 if x == 'Norm'\n",
        "                                                          else  0)))"
      ],
      "metadata": {
        "id": "RgiMoDR8G1jt"
      },
      "execution_count": null,
      "outputs": []
    },
    {
      "cell_type": "code",
      "source": [
        "data['readmitted'].unique()"
      ],
      "metadata": {
        "colab": {
          "base_uri": "https://localhost:8080/"
        },
        "id": "XTg9YGZX8c2I",
        "outputId": "77fa0373-d2ac-447a-cd4e-0bb27343b114"
      },
      "execution_count": null,
      "outputs": [
        {
          "output_type": "execute_result",
          "data": {
            "text/plain": [
              "array(['NO', '>30', '<30'], dtype=object)"
            ]
          },
          "metadata": {},
          "execution_count": 13
        }
      ]
    },
    {
      "cell_type": "code",
      "source": [
        "# Alternate way of doing the following cell's operations\n",
        "# MISSING STEP - CONVERTING TYPE TO INT(this method still leaves values as objects)\n",
        "\"\"\"\n",
        "data['readmitted'] = data['readmitted'].replace(['NO'],0)\n",
        "data['readmitted'] = data['readmitted'].replace(['>30'],45)\n",
        "data['readmitted'] = data['readmitted'].replace(['<30'],15)\n",
        "\"\"\""
      ],
      "metadata": {
        "id": "amkc3UYTHUVT"
      },
      "execution_count": null,
      "outputs": []
    },
    {
      "cell_type": "code",
      "source": [
        "# Note how parenthesises are placed...\n",
        "data['readmitted'] = data['readmitted'].apply(lambda x : 1 if x == '<30'\n",
        "                                                        else 0)"
      ],
      "metadata": {
        "id": "FMBp42QLOMIH"
      },
      "execution_count": null,
      "outputs": []
    },
    {
      "cell_type": "code",
      "source": [
        "data.head()"
      ],
      "metadata": {
        "id": "73x1oi5nsrlR"
      },
      "execution_count": null,
      "outputs": []
    },
    {
      "cell_type": "code",
      "source": [
        "data['readmitted']"
      ],
      "metadata": {
        "id": "C4JWJCcGK6Gc"
      },
      "execution_count": null,
      "outputs": []
    },
    {
      "cell_type": "code",
      "source": [
        "data['gender'].unique()"
      ],
      "metadata": {
        "colab": {
          "base_uri": "https://localhost:8080/"
        },
        "id": "Ds2Pyaoesx0k",
        "outputId": "d5649776-edfa-4bb9-8b8f-3ec65725f719"
      },
      "execution_count": null,
      "outputs": [
        {
          "output_type": "execute_result",
          "data": {
            "text/plain": [
              "array(['Female', 'Male', 'Unknown/Invalid'], dtype=object)"
            ]
          },
          "metadata": {},
          "execution_count": 13
        }
      ]
    },
    {
      "cell_type": "code",
      "source": [
        "data['gender'].value_counts(dropna=False)"
      ],
      "metadata": {
        "id": "Pyj5qtpbs3Pa"
      },
      "execution_count": null,
      "outputs": []
    },
    {
      "cell_type": "code",
      "source": [
        "data = data[data['gender'] != 'Unknown/Invalid']"
      ],
      "metadata": {
        "id": "gIKrCnFDvnmU"
      },
      "execution_count": null,
      "outputs": []
    },
    {
      "cell_type": "code",
      "source": [
        "data['gender'].value_counts(dropna=False)"
      ],
      "metadata": {
        "id": "bAt73ElRtjaM"
      },
      "execution_count": null,
      "outputs": []
    },
    {
      "cell_type": "code",
      "source": [
        "data['gender'] = data['gender'].apply(lambda x : 1 if x == 'Female' else 0)"
      ],
      "metadata": {
        "id": "6N1PeLnErkUm"
      },
      "execution_count": null,
      "outputs": []
    },
    {
      "cell_type": "code",
      "source": [
        "data['gender']"
      ],
      "metadata": {
        "id": "iMPEBTlrwozu"
      },
      "execution_count": null,
      "outputs": []
    },
    {
      "cell_type": "code",
      "source": [
        "# Data is all numerical values and ready to be used in machine learning models\n",
        "data.info()"
      ],
      "metadata": {
        "id": "iJn0WCLfKHZ6"
      },
      "execution_count": null,
      "outputs": []
    },
    {
      "cell_type": "markdown",
      "source": [
        "## Data Visulaization"
      ],
      "metadata": {
        "id": "H7iGVS7mGyBI"
      }
    },
    {
      "cell_type": "code",
      "source": [
        "df.head()"
      ],
      "metadata": {
        "id": "hkXQLTv7XspE"
      },
      "execution_count": null,
      "outputs": []
    },
    {
      "cell_type": "code",
      "source": [
        "data.head()"
      ],
      "metadata": {
        "id": "OX3UJNnbXpTa"
      },
      "execution_count": null,
      "outputs": []
    },
    {
      "cell_type": "code",
      "source": [
        "data.columns"
      ],
      "metadata": {
        "id": "mgp3t4KhRqbC"
      },
      "execution_count": null,
      "outputs": []
    },
    {
      "cell_type": "code",
      "source": [
        "# Checking to see if there is an overwhelming majority of either gender\n",
        "sns.distplot(data['gender'])"
      ],
      "metadata": {
        "colab": {
          "base_uri": "https://localhost:8080/",
          "height": 350
        },
        "id": "_FM8cqG5MgP_",
        "outputId": "0d84649b-be9c-4594-a70d-1e0d1deb8090"
      },
      "execution_count": null,
      "outputs": [
        {
          "output_type": "stream",
          "name": "stderr",
          "text": [
            "/usr/local/lib/python3.7/dist-packages/seaborn/distributions.py:2619: FutureWarning: `distplot` is a deprecated function and will be removed in a future version. Please adapt your code to use either `displot` (a figure-level function with similar flexibility) or `histplot` (an axes-level function for histograms).\n",
            "  warnings.warn(msg, FutureWarning)\n"
          ]
        },
        {
          "output_type": "execute_result",
          "data": {
            "text/plain": [
              "<matplotlib.axes._subplots.AxesSubplot at 0x7fde8de45f90>"
            ]
          },
          "metadata": {},
          "execution_count": 14
        },
        {
          "output_type": "display_data",
          "data": {
            "text/plain": [
              "<Figure size 432x288 with 1 Axes>"
            ],
            "image/png": "[encoded data removed]"
          },
          "metadata": {
            "needs_background": "light"
          }
        }
      ]
    },
    {
      "cell_type": "code",
      "source": [
        "# Most of the data is of Caucasians \n",
        "# African Americans and Caucasians have a similar readmittance pattern\n",
        "sns.set_style('whitegrid')\n",
        "sns.countplot(x='race', hue='readmitted', data=df, palette='rainbow')"
      ],
      "metadata": {
        "colab": {
          "base_uri": "https://localhost:8080/",
          "height": 296
        },
        "id": "Bl8CHE9QJHlI",
        "outputId": "8a9740ae-1251-45df-d0ea-4d41b6e59da0"
      },
      "execution_count": null,
      "outputs": [
        {
          "output_type": "execute_result",
          "data": {
            "text/plain": [
              "<matplotlib.axes._subplots.AxesSubplot at 0x7fde8de41410>"
            ]
          },
          "metadata": {},
          "execution_count": 19
        },
        {
          "output_type": "display_data",
          "data": {
            "text/plain": [
              "<Figure size 432x288 with 1 Axes>"
            ],
            "image/png": "[encoded data removed]"
          },
          "metadata": {}
        }
      ]
    },
    {
      "cell_type": "code",
      "source": [
        "# Checking for the relations between encounter id and gender\n",
        "# Both genders seem to have insignificant fluctuations in encount id classification\n",
        "plt.figure(figsize=(12,7))\n",
        "sns.boxplot(x='gender', y='encounter_id', data=df, palette='winter')"
      ],
      "metadata": {
        "id": "FhFQ7FcuR6WQ",
        "colab": {
          "base_uri": "https://localhost:8080/",
          "height": 470
        },
        "outputId": "fe0a231b-843b-4418-f563-e98498738ea5"
      },
      "execution_count": null,
      "outputs": [
        {
          "output_type": "execute_result",
          "data": {
            "text/plain": [
              "<matplotlib.axes._subplots.AxesSubplot at 0x7fde8ac8ae90>"
            ]
          },
          "metadata": {},
          "execution_count": 20
        },
        {
          "output_type": "display_data",
          "data": {
            "text/plain": [
              "<Figure size 864x504 with 1 Axes>"
            ],
            "image/png": "[encoded data removed]"
          },
          "metadata": {}
        }
      ]
    },
    {
      "cell_type": "markdown",
      "source": [
        "## Training Test Split and Analysises"
      ],
      "metadata": {
        "id": "-W_9IghfrVd2"
      }
    },
    {
      "cell_type": "code",
      "source": [
        "from sklearn.model_selection import train_test_split "
      ],
      "metadata": {
        "id": "KLxQEeDOtkqW"
      },
      "execution_count": null,
      "outputs": []
    },
    {
      "cell_type": "code",
      "source": [
        "data.tail()"
      ],
      "metadata": {
        "id": "WMXP7M1rz4Ik"
      },
      "execution_count": null,
      "outputs": []
    },
    {
      "cell_type": "code",
      "source": [
        "X = data.drop(\"readmitted\", axis=1)\n",
        "y = data[\"readmitted\"]"
      ],
      "metadata": {
        "id": "44Z01rMKvPLF"
      },
      "execution_count": null,
      "outputs": []
    },
    {
      "cell_type": "code",
      "source": [
        "X_train, X_test, y_train, y_test = train_test_split(X, y, test_size = 0.55, random_state = 0)"
      ],
      "metadata": {
        "id": "Et95YKyPvPG0"
      },
      "execution_count": null,
      "outputs": []
    },
    {
      "cell_type": "markdown",
      "source": [
        "### Decision Tree - Supervised"
      ],
      "metadata": {
        "id": "hUBKGbZSDSe7"
      }
    },
    {
      "cell_type": "code",
      "source": [
        "from sklearn.tree import DecisionTreeClassifier\n",
        "dtree = DecisionTreeClassifier()\n",
        "dtree.fit(X_train, y_train)"
      ],
      "metadata": {
        "id": "tG6vOka7vPCv"
      },
      "execution_count": null,
      "outputs": []
    },
    {
      "cell_type": "code",
      "source": [
        "predictions = dtree.predict(X_test)\n",
        "from sklearn.metrics import classification_report, confusion_matrix\n",
        "print(classification_report(y_test, predictions))"
      ],
      "metadata": {
        "id": "793HpH6OvO5C",
        "colab": {
          "base_uri": "https://localhost:8080/"
        },
        "outputId": "fe958a02-d4e6-4d5f-c644-96b9342176cf"
      },
      "execution_count": null,
      "outputs": [
        {
          "output_type": "stream",
          "name": "stdout",
          "text": [
            "              precision    recall  f1-score   support\n",
            "\n",
            "           0       0.91      0.89      0.90     35275\n",
            "           1       0.11      0.14      0.12      3463\n",
            "\n",
            "   micro avg       0.83      0.83      0.83     38738\n",
            "   macro avg       0.51      0.51      0.51     38738\n",
            "weighted avg       0.84      0.83      0.83     38738\n",
            "\n"
          ]
        }
      ]
    },
    {
      "cell_type": "code",
      "source": [
        "print(confusion_matrix(y_test, predictions))"
      ],
      "metadata": {
        "id": "xDW1vT7bw6Ry",
        "colab": {
          "base_uri": "https://localhost:8080/"
        },
        "outputId": "be434af0-b97f-4082-9905-374df24f3783"
      },
      "execution_count": null,
      "outputs": [
        {
          "output_type": "stream",
          "name": "stdout",
          "text": [
            "[[31507  3768]\n",
            " [ 2991   472]]\n"
          ]
        }
      ]
    },
    {
      "cell_type": "markdown",
      "source": [
        "### Logistic Regression - Supervised"
      ],
      "metadata": {
        "id": "cKDF8y32DWP_"
      }
    },
    {
      "cell_type": "code",
      "source": [
        "from sklearn.linear_model import LogisticRegression"
      ],
      "metadata": {
        "id": "65oNP3OiDjCb"
      },
      "execution_count": null,
      "outputs": []
    },
    {
      "cell_type": "code",
      "source": [
        "logmodel = LogisticRegression()\n",
        "logmodel.fit(X_train, y_train)\n",
        "predictions = logmodel.predict(X_test)"
      ],
      "metadata": {
        "id": "N4tBaVQ8w_sT"
      },
      "execution_count": null,
      "outputs": []
    },
    {
      "cell_type": "code",
      "source": [
        "print(classification_report(y_test, predictions))"
      ],
      "metadata": {
        "id": "3QI24-Jlzeyp",
        "colab": {
          "base_uri": "https://localhost:8080/"
        },
        "outputId": "46a76200-5d45-45e4-c01c-e60cde968a86"
      },
      "execution_count": null,
      "outputs": [
        {
          "output_type": "stream",
          "name": "stdout",
          "text": [
            "              precision    recall  f1-score   support\n",
            "\n",
            "           0       0.91      1.00      0.95     35275\n",
            "           1       0.34      0.00      0.01      3463\n",
            "\n",
            "   micro avg       0.91      0.91      0.91     38738\n",
            "   macro avg       0.63      0.50      0.48     38738\n",
            "weighted avg       0.86      0.91      0.87     38738\n",
            "\n"
          ]
        }
      ]
    },
    {
      "cell_type": "code",
      "source": [
        "print(confusion_matrix(y_test, predictions))"
      ],
      "metadata": {
        "id": "F2AaiRDHDqLa",
        "colab": {
          "base_uri": "https://localhost:8080/"
        },
        "outputId": "4ecb4748-2fdb-445d-e04a-9432e473ede0"
      },
      "execution_count": null,
      "outputs": [
        {
          "output_type": "stream",
          "name": "stdout",
          "text": [
            "[[35250    25]\n",
            " [ 3450    13]]\n"
          ]
        }
      ]
    },
    {
      "cell_type": "markdown",
      "source": [
        "### KNN - Unsupervised"
      ],
      "metadata": {
        "id": "shsK2ImPD_SE"
      }
    },
    {
      "cell_type": "code",
      "source": [
        "from sklearn.preprocessing import StandardScaler\n",
        "from sklearn.neighbors import KNeighborsClassifier"
      ],
      "metadata": {
        "id": "SFUKH-WrEMRa"
      },
      "execution_count": null,
      "outputs": []
    },
    {
      "cell_type": "code",
      "source": [
        "df1 = data\n",
        "scaler = StandardScaler()"
      ],
      "metadata": {
        "id": "ct5Z0f0CENJ6"
      },
      "execution_count": null,
      "outputs": []
    },
    {
      "cell_type": "code",
      "source": [
        "scaler.fit(df1.drop('readmitted', axis=1))\n",
        "scaled_features = scaler.transform(df1.drop('readmitted', axis=1))\n",
        "df_feat = pd.DataFrame(scaled_features, columns = df1.columns[:-1])"
      ],
      "metadata": {
        "id": "S03EQ9meEM-X"
      },
      "execution_count": null,
      "outputs": []
    },
    {
      "cell_type": "code",
      "source": [
        "X_train, X_test, y_train, y_test = train_test_split(scaled_features, df1['readmitted'], test_size = 0.25, random_state = 0)"
      ],
      "metadata": {
        "id": "pDaEw1F5EYuX"
      },
      "execution_count": null,
      "outputs": []
    },
    {
      "cell_type": "code",
      "source": [
        "knn = KNeighborsClassifier(n_neighbors=1)\n",
        "knn.fit(X_train,y_train)\n",
        "pred = knn.predict(X_test)"
      ],
      "metadata": {
        "id": "sgnvVS2qEojM"
      },
      "execution_count": null,
      "outputs": []
    },
    {
      "cell_type": "code",
      "source": [
        "print(classification_report(y_test,pred))\n",
        "print(confusion_matrix(y_test, pred))"
      ],
      "metadata": {
        "id": "vuGLjyLSE-N5",
        "colab": {
          "base_uri": "https://localhost:8080/"
        },
        "outputId": "21050c28-afc1-424e-ea9d-524181501552"
      },
      "execution_count": null,
      "outputs": [
        {
          "output_type": "stream",
          "name": "stdout",
          "text": [
            "              precision    recall  f1-score   support\n",
            "\n",
            "           0       0.91      0.91      0.91     16037\n",
            "           1       0.10      0.10      0.10      1571\n",
            "\n",
            "   micro avg       0.84      0.84      0.84     17608\n",
            "   macro avg       0.51      0.51      0.51     17608\n",
            "weighted avg       0.84      0.84      0.84     17608\n",
            "\n",
            "[[14608  1429]\n",
            " [ 1411   160]]\n"
          ]
        }
      ]
    },
    {
      "cell_type": "markdown",
      "source": [
        "## Conclusion"
      ],
      "metadata": {
        "id": "M_kksljIjfee"
      }
    },
    {
      "cell_type": "markdown",
      "source": [
        "Unfortunately due to technical difficulties, I am unable to recieve a complete accuracy report. However, I believe that my logistic model with have the highest accuracy. Logistic regression is great for multi class predictions, and less prone to overfitting. My one concern is that it assumes linearity bewteen input and outputs. In future logistic regressions models, I will consider decreasing the amount of categories I pull data from."
      ],
      "metadata": {
        "id": "AKOwQR9TjkIu"
      }
    }
  ]
}